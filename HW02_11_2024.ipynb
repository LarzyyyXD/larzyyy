{
 "cells": [
  {
   "cell_type": "markdown",
   "metadata": {},
   "source": [
    "Напишите функцию, вычисляющую произведение <br>\n",
    "элементов списка целых. Список передаётся в качестве параметра. Полученный результат возвращается из функции."
   ]
  },
  {
   "cell_type": "code",
   "execution_count": 24,
   "metadata": {},
   "outputs": [
    {
     "data": {
      "text/plain": [
       "720"
      ]
     },
     "execution_count": 24,
     "metadata": {},
     "output_type": "execute_result"
    }
   ],
   "source": [
    "def multiplication(a): \n",
    "    mult = 1\n",
    "    for i in a:  \n",
    "        mult *= i\n",
    "    return mult\n",
    "multiplication([2, 4, 3 ,1 ,5 ,6]) \n",
    "\n",
    "\n"
   ]
  },
  {
   "cell_type": "markdown",
   "metadata": {},
   "source": [
    "Напишите функцию для нахождения минимума в <br>\n",
    "списке целых. Список передаётся в качестве параметра. <br>\n",
    "Полученный результат возвращается из функции. <br>\n"
   ]
  },
  {
   "cell_type": "code",
   "execution_count": 31,
   "metadata": {},
   "outputs": [
    {
     "data": {
      "text/plain": [
       "2"
      ]
     },
     "execution_count": 31,
     "metadata": {},
     "output_type": "execute_result"
    }
   ],
   "source": [
    "def minimal(a):\n",
    "    return min(a)\n",
    "\n",
    "minimal([2, 4, 6, 8])\n",
    "\n"
   ]
  },
  {
   "cell_type": "markdown",
   "metadata": {},
   "source": [
    "Напишите функцию, определяющую количество простых чисел в списке целых. Список передаётся в качестве <br>\n",
    "параметра.Полученныйрезультат возвращается из функции."
   ]
  },
  {
   "cell_type": "code",
   "execution_count": null,
   "metadata": {},
   "outputs": [],
   "source": [
    "def is_simple(n): \n",
    "    if n <= 1: \n",
    "        return False \n",
    "    for i in range(2, int(n)): \n",
    "        if n % i == 0: \n",
    "            return False \n",
    "    return True \n",
    " \n",
    "def count_simple(list_int): \n",
    "    count = 0 \n",
    "    for num in list_int: \n",
    "        if is_simple(num): \n",
    "            count += 1 \n",
    "    return count \n",
    " \n",
    "print(count_simple([3, 4, 5, 6, 7, 8, 9, 10, 11]))"
   ]
  },
  {
   "cell_type": "markdown",
   "metadata": {},
   "source": [
    "Напишите функцию, удаляющую из списка целых <br>\n",
    "некоторое заданное число. Из функции нужно вернуть <br>\n",
    "количество удаленных элементов. <br>"
   ]
  },
  {
   "cell_type": "code",
   "execution_count": 35,
   "metadata": {},
   "outputs": [
    {
     "name": "stdout",
     "output_type": "stream",
     "text": [
      "5\n",
      "[2, 3, 9, 8, 7]\n"
     ]
    }
   ],
   "source": [
    "def f(num,l):\n",
    "    list_len = len(l)\n",
    "    while True:\n",
    "        if l.count(num) == 0:\n",
    "            break\n",
    "        l.remove(num)\n",
    "    return list_len - len(l)\n",
    "\n",
    "\n",
    "list1 = [2,3,5,5,5,5,9,5,8,7]\n",
    "print(f(5,list1))\n",
    "print(list1)"
   ]
  },
  {
   "cell_type": "markdown",
   "metadata": {},
   "source": [
    "Напишите функцию, которая получает два списка в <br>\n",
    "качестве параметра и возвращает список, содержащий <br>\n",
    "элементы обоих списков. <br>\n"
   ]
  },
  {
   "cell_type": "code",
   "execution_count": 32,
   "metadata": {},
   "outputs": [
    {
     "data": {
      "text/plain": [
       "[1, 8, 2, 4, 5, 6, 3, 1, 9, 0]"
      ]
     },
     "execution_count": 32,
     "metadata": {},
     "output_type": "execute_result"
    }
   ],
   "source": [
    "def sum(a, b):\n",
    "    return a + b \n",
    "\n",
    "list1 = [1, 8, 2, 4, 5]\n",
    "list2 = [6, 3, 1, 9, 0]\n",
    "sum(list1,list2)"
   ]
  },
  {
   "cell_type": "markdown",
   "metadata": {},
   "source": [
    "Напишите функцию, высчитывающую степень каждого <br>\n",
    "элемента списка целых. Значение для степени передаётся <br>\n",
    "в качестве параметра, список тоже передаётся в качестве <br>\n",
    "параметра. Функция возвращает новый список, содержащий полученные результаты. <br>"
   ]
  },
  {
   "cell_type": "code",
   "execution_count": 2,
   "metadata": {},
   "outputs": [
    {
     "name": "stdout",
     "output_type": "stream",
     "text": [
      "[4, 16, 9, 1, 25, 36]\n",
      "[512, 512, 512, 512, 512, 512]\n"
     ]
    }
   ],
   "source": [
    "def degree(a, b): \n",
    "    list1 = []\n",
    "\n",
    "    for i in b:\n",
    "        i **= a\n",
    "        list1.append(i)\n",
    "    return list1\n",
    "\n",
    "print(degree(2, [2, 4, 3, 1, 5, 6]))\n",
    "print(degree(3, [8, 8, 8, 8, 8, 8]))"
   ]
  }
 ],
 "metadata": {
  "kernelspec": {
   "display_name": "Python 3",
   "language": "python",
   "name": "python3"
  },
  "language_info": {
   "codemirror_mode": {
    "name": "ipython",
    "version": 3
   },
   "file_extension": ".py",
   "mimetype": "text/x-python",
   "name": "python",
   "nbconvert_exporter": "python",
   "pygments_lexer": "ipython3",
   "version": "3.12.6"
  }
 },
 "nbformat": 4,
 "nbformat_minor": 2
}
