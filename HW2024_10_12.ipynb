{
 "cells": [
  {
   "cell_type": "code",
   "execution_count": null,
   "metadata": {},
   "outputs": [],
   "source": [
    "# Два списка целых заполняются случайными числами. \n",
    "list1 = [1, 8, 2, 4, 5]\n",
    "list2 = [6, 3, 1, 9, 0]\n"
   ]
  },
  {
   "cell_type": "code",
   "execution_count": 5,
   "metadata": {},
   "outputs": [
    {
     "name": "stdout",
     "output_type": "stream",
     "text": [
      "[1, 8, 2, 4, 5, 6, 3, 1, 9, 0]\n"
     ]
    }
   ],
   "source": [
    "# Сформировать третий список, содержащий элементы обоих списков\n",
    "list1 = [1, 8, 2, 4, 5]\n",
    "list2 = [6, 3, 1, 9, 0]\n",
    "list3 = list1 + list2\n",
    "\n",
    "print(list3)"
   ]
  },
  {
   "cell_type": "code",
   "execution_count": 4,
   "metadata": {},
   "outputs": [
    {
     "name": "stdout",
     "output_type": "stream",
     "text": [
      "[0, 1, 2, 3, 4, 5, 9]\n"
     ]
    }
   ],
   "source": [
    "# Сформировать третий список, содержащий элементы\n",
    "# обоих списков без повторений;\n",
    "list1 = [1, 0, 2, 4, 5]\n",
    "list2 = [5, 3, 1, 9, 0]\n",
    "list3 = list(set(list1 + list2))\n",
    "\n",
    "print(list3)    "
   ]
  },
  {
   "cell_type": "code",
   "execution_count": 7,
   "metadata": {},
   "outputs": [
    {
     "name": "stdout",
     "output_type": "stream",
     "text": [
      "[0, 1, 5]\n"
     ]
    }
   ],
   "source": [
    "# Сформировать третий список, содержащий элементы\n",
    "# общие для двух списков;\n",
    "list1 = [1, 0, 2, 4, 5]\n",
    "list2 = [5, 3, 1, 9, 0]\n",
    "list3 = list(set(list1).intersection(set(list2)))\n",
    "print(list3)"
   ]
  },
  {
   "cell_type": "code",
   "execution_count": 13,
   "metadata": {},
   "outputs": [
    {
     "name": "stdout",
     "output_type": "stream",
     "text": [
      "[1, 0, 2, 4, 5, 3, 9]\n"
     ]
    }
   ],
   "source": [
    "# 4 Сформировать третий список, содержащий только уникальные элементы каждого из списков \n",
    "from collections import Counter \n",
    " \n",
    "list1 = [1, 3, 6, 8, 9] \n",
    "list2 = [6, 2, 8, 7, 4] \n",
    " \n",
    "list3 = list1 + list2 \n",
    "list3.sort() \n",
    "list3 = Counter(list3) \n",
    "# print(list3) \n",
    " \n",
    "unique = [num for num in list3 if list3[num] == 1] \n",
    "print(unique)"
   ]
  },
  {
   "cell_type": "code",
   "execution_count": 24,
   "metadata": {},
   "outputs": [
    {
     "name": "stdout",
     "output_type": "stream",
     "text": [
      "[5, 0, 9, 0]\n"
     ]
    }
   ],
   "source": [
    "# Сформировать третий список, содержащий только\n",
    "# минимальное и максимальное значение каждого из\n",
    "# списков.\n",
    "list1 = [1, 0, 2, 4, 5]\n",
    "list2 = [5, 3, 1, 9, 0]\n",
    "\n",
    "list1.sort()\n",
    "list2.sort()\n",
    "\n",
    "list3 = [list1[-1],list1[0], list2[-1],list2[0]]\n",
    "print(list3)\n"
   ]
  }
 ],
 "metadata": {
  "kernelspec": {
   "display_name": "Python 3",
   "language": "python",
   "name": "python3"
  },
  "language_info": {
   "codemirror_mode": {
    "name": "ipython",
    "version": 3
   },
   "file_extension": ".py",
   "mimetype": "text/x-python",
   "name": "python",
   "nbconvert_exporter": "python",
   "pygments_lexer": "ipython3",
   "version": "3.12.6 (tags/v3.12.6:a4a2d2b, Sep  6 2024, 20:11:23) [MSC v.1940 64 bit (AMD64)]"
  },
  "orig_nbformat": 4,
  "vscode": {
   "interpreter": {
    "hash": "7d0b288b9e0c259eb4c974ea5df379d68154a5c2434e58298688ce605279acae"
   }
  }
 },
 "nbformat": 4,
 "nbformat_minor": 2
}
