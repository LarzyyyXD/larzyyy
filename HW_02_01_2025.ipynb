{
 "cells": [
  {
   "cell_type": "markdown",
   "metadata": {},
   "source": [
    "Задание 1 <br>\n",
    "Создайте класс Device, который содержит информацию об устройстве. <br>\n",
    "Спомощью механизма наследования, реализуйте класс <br>\n",
    "CoffeeMachine(содержит информацию о кофемашине) <br>\n",
    "класс Blender (содержит информацию о блендере), класс <br>\n",
    "MeatGrinder (содержит информацию о мясорубке). <br>\n",
    "Каждый из классов должен содержать необходимые <br>\n",
    "для работы методы <br>"
   ]
  },
  {
   "cell_type": "code",
   "execution_count": 1,
   "metadata": {},
   "outputs": [
    {
     "name": "stdout",
     "output_type": "stream",
     "text": [
      "哦，這個中國: не доехала. \n",
      "valera: издает бз-бз-бз.\n",
      "Vova: издает бр-бр-бр.\n"
     ]
    }
   ],
   "source": [
    "class Device:\n",
    "\n",
    "    def __init__(self, name, voltage, socket):\n",
    "        self.name = name \n",
    "        self.voltage = voltage \n",
    "        self.socket = socket \n",
    "\n",
    "class CoffeMachine(Device):\n",
    "\n",
    "    def work(self):\n",
    "        return f'{self.name}: не доехала. '\n",
    "\n",
    "class Blender(Device):\n",
    "\n",
    "    def work(self):\n",
    "        return f'{self.name}: издает бр-бр-бр.'\n",
    "\n",
    "class Grinder(Device):\n",
    "\n",
    "    def work(self):\n",
    "        return f'{self.name}: издает бз-бз-бз.'\n",
    "\n",
    "coffemachine = CoffeMachine('哦，這個中國', 100, 'China')\n",
    "print(coffemachine.work())\n",
    "\n",
    "meatgrinder = Grinder('valera', 355, 'russian')\n",
    "print(meatgrinder.work())\n",
    "\n",
    "blender = Blender('Vova', 666, 'american')\n",
    "print(blender.work())"
   ]
  },
  {
   "cell_type": "markdown",
   "metadata": {},
   "source": [
    "Задание 2 <br>\n",
    "Создайте класс Ship, который содержит информацию <br>\n",
    "о корабле. <br>\n",
    "С помощью механизма наследования, реализуйте <br>\n",
    "класс Frigate (содержит информацию о фрегате), класс <br>\n",
    "Destroyer (содержит информацию об эсминце), класс <br>\n",
    "Cruiser (содержит информацию о крейсере). <br>\n",
    "Каждый из классов должен содержать необходимые <br>\n",
    "для работы методы. <br>"
   ]
  },
  {
   "cell_type": "code",
   "execution_count": 3,
   "metadata": {},
   "outputs": [
    {
     "name": "stdout",
     "output_type": "stream",
     "text": [
      "\"Maria\" движется со скоростью: 55.  \n",
      " Имя: Maria, масса: 4000 тонн, скорость: 55 км/ч.\n",
      "\"Maxim\" движется со скоростью: 60 км/ч.  \n",
      " Имя: Maxim, масса: 1500, скорость: 60 км/ч.\n",
      "\"Moscow\" движется со скоростью: 40 км/ч.  \n",
      " Имя: Moscow, масса: 10000 тонн, скорость: 40 км/ч.\n"
     ]
    }
   ],
   "source": [
    "class Ship:\n",
    "\n",
    "    def __init__(self, name, weight, speed):\n",
    "        self.name = name \n",
    "        self.weight = weight \n",
    "        self.speed = speed\n",
    "\n",
    "class Frigate(Ship):\n",
    "\n",
    "    def move(self):\n",
    "        return f'\"{self.name}\" движется со скоростью: {self.speed}. '\n",
    "    \n",
    "    def show_info(self):\n",
    "        return f'Имя: {self.name}, масса: {self.weight} тонн, скорость: {self.speed} км/ч.'\n",
    "\n",
    "class Destroyer(Ship):\n",
    "\n",
    "    def move(self):\n",
    "        return f'\"{self.name}\" движется со скоростью: {self.speed} км/ч. '\n",
    "    \n",
    "    def show_info(self):\n",
    "        return f'Имя: {self.name}, масса: {self.weight}, скорость: {self.speed} км/ч.'\n",
    "    \n",
    "class Cruiser(Ship):\n",
    "\n",
    "    def move(self):\n",
    "        return f'\"{self.name}\" движется со скоростью: {self.speed} км/ч. '\n",
    "    \n",
    "    def show_info(self):\n",
    "        return f'Имя: {self.name}, масса: {self.weight} тонн, скорость: {self.speed} км/ч.'\n",
    "\n",
    "frigate = Frigate('Maria', '4000', 55)\n",
    "print(frigate.move(), '\\n', frigate.show_info())\n",
    "\n",
    "destroyer = Destroyer('Maxim', '1500', 60)\n",
    "print(destroyer.move(), '\\n', destroyer.show_info())\n",
    "\n",
    "cruiser = Cruiser('Moscow', '10000', 40)\n",
    "print(cruiser.move(), '\\n', cruiser.show_info())\n",
    "\n"
   ]
  },
  {
   "cell_type": "markdown",
   "metadata": {},
   "source": [
    "Задание 3 <br>\n",
    "Запрограммируйте класс Money (объект класса оперирует одной валютой) для работы с деньгами. <br>\n",
    "В классе должны быть предусмотрены поле для хранения целой части денег (доллары, евро, гривны и т.д.) и <br>\n",
    "поле для хранения копеек (центы, евроценты, копейки <br>\n",
    "и т.д.). <br>\n",
    "Реализовать методы для вывода суммы на экран, задания значений для частей.  <br>"
   ]
  },
  {
   "cell_type": "code",
   "execution_count": 3,
   "metadata": {},
   "outputs": [
    {
     "data": {
      "text/plain": [
       "'У вас 100.50 в валюте евро '"
      ]
     },
     "execution_count": 3,
     "metadata": {},
     "output_type": "execute_result"
    }
   ],
   "source": [
    "class Money:\n",
    "    def __init__(self, name, value, value_float):\n",
    "        self.name = name \n",
    "        self.value = value \n",
    "        self.value_float = value_float \n",
    "    \n",
    "    def show_info(self):\n",
    "        return f\"У вас {self.value}.{self.value_float} в валюте {self.name} \"\n",
    "\n",
    "obj1 = Money('евро', 100, 50)\n",
    "obj1.show_info()"
   ]
  }
 ],
 "metadata": {
  "kernelspec": {
   "display_name": "Python 3",
   "language": "python",
   "name": "python3"
  },
  "language_info": {
   "codemirror_mode": {
    "name": "ipython",
    "version": 3
   },
   "file_extension": ".py",
   "mimetype": "text/x-python",
   "name": "python",
   "nbconvert_exporter": "python",
   "pygments_lexer": "ipython3",
   "version": "3.12.6"
  }
 },
 "nbformat": 4,
 "nbformat_minor": 2
}
