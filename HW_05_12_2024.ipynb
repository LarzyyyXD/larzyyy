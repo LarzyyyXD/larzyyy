{
 "cells": [
  {
   "cell_type": "markdown",
   "metadata": {},
   "source": [
    "**Задание 1** <br>\n",
    "Создайте программу, хранящую информацию о великих баскетболистах. Нужно хранить ФИО баскетболиста и <br>\n",
    "его рост. Требуется реализовать возможность добавления, <br>\n",
    "удаления, поиска, замены данных. Используйте словарь <br>\n",
    "для хранения информации. <br>"
   ]
  },
  {
   "cell_type": "code",
   "execution_count": 2,
   "metadata": {},
   "outputs": [
    {
     "name": "stdout",
     "output_type": "stream",
     "text": [
      "{'ФИО': ['Michael Jeffrey Jordan'], 'рост': ['192']}\n",
      "['192', '50']\n",
      "Успешно\n",
      "{'ФИО': ['123']}\n"
     ]
    }
   ],
   "source": [
    "famous_bs_player = {'ФИО': ['Michael Jeffrey Jordan'],\n",
    "                    'рост': ['192']}\n",
    "\n",
    "def view_dict(d):\n",
    "    return print(d)\n",
    "\n",
    "def add_dict(d):\n",
    "    key = input('ключ')\n",
    "    value = input('значение')\n",
    "    my_list = (d.get(key))\n",
    "    my_list.append(value)\n",
    "    d[key] = my_list\n",
    "\n",
    "def search_info(d):\n",
    "    key = input('ключ')\n",
    "    return print(d.get(key, \"Ключ не найден.\"))\n",
    "\n",
    "def replace_info(d):\n",
    "    key = input('ключ')\n",
    "    value = input('значение')\n",
    "    if key in d:\n",
    "        d[key] = [value]\n",
    "        print('Успешно')\n",
    "    else:\n",
    "        print('ключ не найден')\n",
    "\n",
    "def del_dict(d):\n",
    "    key = input('ключ')\n",
    "    try:\n",
    "        del d[key]\n",
    "    except KeyError:\n",
    "        print('не найден ключ')\n",
    "    return d \n",
    "\n",
    "view_dict(famous_bs_player)\n",
    "add_dict(famous_bs_player)\n",
    "search_info(famous_bs_player)\n",
    "replace_info(famous_bs_player)\n",
    "del_dict(famous_bs_player)\n",
    "view_dict(famous_bs_player)"
   ]
  },
  {
   "cell_type": "markdown",
   "metadata": {},
   "source": [
    "**Задание 2** <br>\n",
    "Создайте программу «Англо-французский словарь». <br>\n",
    "Нужно хранить слово на английском языке и его перевод <br>\n",
    "на французский. Требуется реализовать возможность добавления, удаления, поиска, замены данных. Используйте <br>\n",
    "словарь для хранения информации. "
   ]
  },
  {
   "cell_type": "code",
   "execution_count": 4,
   "metadata": {},
   "outputs": [
    {
     "name": "stdout",
     "output_type": "stream",
     "text": [
      "{'hello': ['bonjour'], 'madam': ['madame'], 'sir': ['monsieur']}\n",
      "['bonjour', 'asjdfjs']\n",
      "Успешно\n",
      "{'hello': ['bonjour', 'asjdfjs'], 'madam': ['123']}\n"
     ]
    }
   ],
   "source": [
    "en_french= {\n",
    "        'hello': ['bonjour'],\n",
    "        'madam': ['madame'],\n",
    "        'sir': ['monsieur']\n",
    "        }\n",
    "\n",
    "def view_dict(d):\n",
    "    return print(d)\n",
    "\n",
    "def add_dict(d):\n",
    "    key = input('ключ')\n",
    "    value = input('значение')\n",
    "    my_list = (d.get(key))\n",
    "    my_list.append(value)\n",
    "    d[key] = my_list\n",
    "\n",
    "def search_info(d):\n",
    "    key = input('ключ')\n",
    "    return print(d.get(key, \"Ключ не найден.\"))\n",
    "\n",
    "def replace_info(d):\n",
    "    key = input('ключ')\n",
    "    value = input('значение')\n",
    "    if key in d:\n",
    "        d[key] = [value]\n",
    "        print('Успешно')\n",
    "    else:\n",
    "        print('ключ не найден')\n",
    "    \n",
    "def del_dict(d):\n",
    "    key = input('ключ')\n",
    "    try:\n",
    "        del d[key]\n",
    "    except KeyError:\n",
    "        print('не найден ключ')\n",
    "    return d \n",
    "  \n",
    "\n",
    "view_dict(en_french)\n",
    "add_dict(en_french)\n",
    "search_info(en_french)\n",
    "replace_info(en_french)\n",
    "del_dict(en_french)\n",
    "view_dict(en_french)"
   ]
  },
  {
   "cell_type": "markdown",
   "metadata": {},
   "source": [
    "**Задание 3** <br>\n",
    "Создайте программу «Фирма». Нужно хранить информацию о человеке: ФИО, телефон, рабочий email, <br>\n",
    "название должности, номер кабинета, skype. Требуется <br>\n",
    "реализовать возможность добавления, удаления, поиска, замены данных. Используйте словарь для хранения <br>\n",
    "информации."
   ]
  },
  {
   "cell_type": "code",
   "execution_count": 5,
   "metadata": {},
   "outputs": [
    {
     "name": "stdout",
     "output_type": "stream",
     "text": [
      "{'ФИО': ['Пушкин Александр Сергеевич'], 'телефон': ['88005553535'], 'email': ['pushkin@gmail.com'], 'должность': ['Поэт'], 'кабинет': ['666'], 'skype': ['sanya228']}\n",
      "['Пушкин Александр Сергеевич', '123']\n",
      "Успешно\n",
      "{'ФИО': ['Пушкин Александр Сергеевич', '123'], 'телефон': ['шутка'], 'email': ['pushkin@gmail.com'], 'кабинет': ['666'], 'skype': ['sanya228']}\n"
     ]
    }
   ],
   "source": [
    "\n",
    "firma = {\n",
    "        'ФИО': ['Пушкин Александр Сергеевич'],\n",
    "        'телефон': ['88005553535'] , \n",
    "        'email': ['pushkin@gmail.com'],\n",
    "        'должность': ['Поэт'],\n",
    "        'кабинет': ['666'],\n",
    "        'skype': ['sanya228']}\n",
    "\n",
    "def view_dict(d):\n",
    "    return print(d)\n",
    "\n",
    "def add_dict(d):\n",
    "    key = input('ключ')\n",
    "    value = input('значение')\n",
    "    my_list = (d.get(key))\n",
    "    my_list.append(value)\n",
    "    d[key] = my_list\n",
    "\n",
    "def search_info(d):\n",
    "    key = input('ключ')\n",
    "    return print(d.get(key, \"Ключ не найден.\"))\n",
    "\n",
    "def replace_info(d):\n",
    "    key = input('ключ')\n",
    "    value = input('значение')\n",
    "    if key in d:\n",
    "        d[key] = [value]\n",
    "        print('Успешно')\n",
    "    else:\n",
    "        print('ключ не найден')\n",
    "\n",
    "def del_dict(d):\n",
    "    key = input('ключ')\n",
    "    try:\n",
    "        del d[key]\n",
    "    except KeyError:\n",
    "        print('не найден ключ')\n",
    "    return d \n",
    " \n",
    "\n",
    "view_dict(firma)\n",
    "add_dict(firma)\n",
    "search_info(firma)\n",
    "replace_info(firma)\n",
    "del_dict(firma)\n",
    "view_dict(firma)\n"
   ]
  },
  {
   "cell_type": "markdown",
   "metadata": {},
   "source": [
    "**Задание 4** <br>\n",
    "Создайте программу «Книжная коллекция». Нужно <br>\n",
    "хранить информацию о книгах: автор, название книги, <br>\n",
    "жанр, год выпуска, количество страниц, издательство. <br>\n",
    "Требуется реализовать возможность добавления, удаления, поиска, замены данных. Используйте словарь для <br>\n",
    "хранения информации."
   ]
  },
  {
   "cell_type": "code",
   "execution_count": 6,
   "metadata": {},
   "outputs": [
    {
     "name": "stdout",
     "output_type": "stream",
     "text": [
      "{'автор': ['Пушкин Александр Сергеевич'], 'название': ['Дубровский'], 'жанр': ['роман'], 'год выпуска': ['1841'], 'стр': ['288'], 'издательство': ['Просвещение']}\n",
      "['Пушкин Александр Сергеевич', '123123']\n",
      "Успешно\n",
      "{'автор': ['Пушкин Александр Сергеевич', '123123'], 'название': ['ок'], 'год выпуска': ['1841'], 'стр': ['288'], 'издательство': ['Просвещение']}\n"
     ]
    }
   ],
   "source": [
    "\n",
    "book_collection = {\n",
    "        'автор': ['Пушкин Александр Сергеевич'],\n",
    "        'название': ['Дубровский'] , \n",
    "        'жанр': ['роман'],\n",
    "        'год выпуска': ['1841'],\n",
    "        'стр': ['288'],\n",
    "        'издательство': ['Просвещение'],\n",
    "        }\n",
    "\n",
    "def view_dict(d):\n",
    "    return print(d)\n",
    "\n",
    "def add_dict(d):\n",
    "    key = input('ключ')\n",
    "    value = input('значение')\n",
    "    my_list = (d.get(key))\n",
    "    my_list.append(value)\n",
    "    d[key] = my_list\n",
    "\n",
    "def search_info(d):\n",
    "    key = input('ключ')\n",
    "    return print(d.get(key, \"Ключ не найден.\"))\n",
    "\n",
    "def replace_info(d):\n",
    "    key = input('ключ')\n",
    "    value = input('значение')\n",
    "    if key in d:\n",
    "        d[key] = [value]\n",
    "        print('Успешно')\n",
    "    else:   \n",
    "        print('ключ не найден')\n",
    "\n",
    "def del_dict(d):\n",
    "    key = input('ключ')\n",
    "    try:\n",
    "        del d[key]\n",
    "    except KeyError:\n",
    "        print('не найден ключ')\n",
    "    return d \n",
    "\n",
    "\n",
    "view_dict(book_collection)\n",
    "add_dict(book_collection)\n",
    "search_info(book_collection)\n",
    "replace_info(book_collection)\n",
    "del_dict(book_collection)\n",
    "view_dict(book_collection)\n"
   ]
  }
 ],
 "metadata": {
  "kernelspec": {
   "display_name": "Python 3",
   "language": "python",
   "name": "python3"
  },
  "language_info": {
   "codemirror_mode": {
    "name": "ipython",
    "version": 3
   },
   "file_extension": ".py",
   "mimetype": "text/x-python",
   "name": "python",
   "nbconvert_exporter": "python",
   "pygments_lexer": "ipython3",
   "version": "3.12.6"
  }
 },
 "nbformat": 4,
 "nbformat_minor": 2
}
