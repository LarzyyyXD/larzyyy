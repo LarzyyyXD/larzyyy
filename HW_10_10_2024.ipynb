{
 "cells": [
  {
   "cell_type": "code",
   "execution_count": 49,
   "metadata": {},
   "outputs": [
    {
     "name": "stdout",
     "output_type": "stream",
     "text": [
      "True\n"
     ]
    }
   ],
   "source": [
    "# Задание 1\n",
    "\n",
    "palindrom = str(input(\"Введите что-нибудь\"))\n",
    "palindrom_lower = palindrom.lower()\n",
    "palindrom_lower = palindrom_lower.replace(' ', '')\n",
    "\n",
    "\n",
    "if palindrom_lower == palindrom_lower[::-1]: \n",
    "    print(True) \n",
    "else: \n",
    "    print(False)"
   ]
  },
  {
   "cell_type": "code",
   "execution_count": 63,
   "metadata": {},
   "outputs": [
    {
     "name": "stdout",
     "output_type": "stream",
     "text": [
      "Изменённый текст:\n",
      "ура РОБЛОКС\n"
     ]
    }
   ],
   "source": [
    "# Задание 2 \n",
    "\n",
    "usertext = input(\"Введите текст: \")\n",
    "\n",
    "reserved = input(\"Введите зарезервированные слова, разделённые запятой: \")\n",
    "reserved1 = [word.strip() for word in reserved.split(',')]\n",
    "\n",
    "for word in reserved1:\n",
    "    usertext = usertext.replace(word, word.upper())\n",
    "\n",
    "print(\"Изменённый текст:\")\n",
    "print(usertext)\n",
    "\n"
   ]
  },
  {
   "cell_type": "code",
   "execution_count": 64,
   "metadata": {},
   "outputs": [
    {
     "name": "stdout",
     "output_type": "stream",
     "text": [
      "3\n"
     ]
    }
   ],
   "source": [
    "# Задание 3 \n",
    "text = 'На дворе уже Осень. Листья падают. На улице холодно.'\n",
    "count = 0\n",
    "\n",
    "for i in text:\n",
    "    if i == '.':\n",
    "        count += 1\n",
    "\n",
    "print(count)"
   ]
  },
  {
   "cell_type": "code",
   "execution_count": null,
   "metadata": {},
   "outputs": [
    {
     "name": "stdout",
     "output_type": "stream",
     "text": [
      "3\n"
     ]
    }
   ],
   "source": [
    "# Задание 3 \n",
    "text = 'На дворе уже Осень. Листья падают. На улице холодно.'\n",
    "count = 0\n",
    "\n",
    "for i in text:\n",
    "    if i == '.':\n",
    "        count += 1\n",
    "\n",
    "print(count)"
   ]
  }
 ],
 "metadata": {
  "kernelspec": {
   "display_name": "Python 3",
   "language": "python",
   "name": "python3"
  },
  "language_info": {
   "codemirror_mode": {
    "name": "ipython",
    "version": 3
   },
   "file_extension": ".py",
   "mimetype": "text/x-python",
   "name": "python",
   "nbconvert_exporter": "python",
   "pygments_lexer": "ipython3",
   "version": "3.12.6"
  }
 },
 "nbformat": 4,
 "nbformat_minor": 2
}
