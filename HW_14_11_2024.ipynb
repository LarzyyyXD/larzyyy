{
 "cells": [
  {
   "cell_type": "code",
   "execution_count": 23,
   "metadata": {},
   "outputs": [
    {
     "name": "stdout",
     "output_type": "stream",
     "text": [
      "[9, 36, 81]\n"
     ]
    }
   ],
   "source": [
    "# 1) Задача на генератор и оператор yield\n",
    "# Создайте генератор, который принимает список чисел и возвращает квадраты чисел, кратных 3. Используйте оператор yield.\n",
    "\n",
    "# def square_generator(numbers):\n",
    "#     # Ваш код здесь\n",
    "#     pass\n",
    "\n",
    "# # Пример использования\n",
    "# for square in square_generator([1, 3, 5, 6, 9]):\n",
    "#     print(square)\n",
    "\n",
    "def square_generator(numbers):\n",
    "    list1 = list(x*x for x in numbers if x % 3 == 0)\n",
    "    yield list1    \n",
    "\n",
    "for square in square_generator([1, 3, 5, 6, 9]):\n",
    "    print(square)\n",
    "\n",
    "        "
   ]
  },
  {
   "cell_type": "code",
   "execution_count": 43,
   "metadata": {},
   "outputs": [
    {
     "name": "stdout",
     "output_type": "stream",
     "text": [
      "hello, world!\n",
      "Hello\n",
      "HI\n"
     ]
    }
   ],
   "source": [
    "# 2) Задача на функцию lambda\n",
    "# Напишите lambda-функцию, которая принимает строку и возвращает эту строку в верхнем регистре, если она короче 5 символов,\n",
    "# и в нижнем регистре, если она длиннее 5 символов, а если в ней ровно 5 символов, то возвращает необработанную строку.\n",
    "\n",
    "# transform_string = # Ваш код здесь\n",
    "\n",
    "# # Пример использования\n",
    "# print(transform_string(\"Hello, World!\"))   # Должно вывести: \"hello, world!\"\n",
    "# print(transform_string(\"Hello\"))   # Должно вывести: \"Hello\"\n",
    "# print(transform_string(\"Hi\"))      # Должно вывести: \"HI\"\n",
    "\n",
    "transform_string = lambda x: (\n",
    "    x.lower() if len(x) > 5 \n",
    "    else x if len(x) == 5 \n",
    "    else x.upper()\n",
    ")\n",
    "\n",
    "print(transform_string(\"Hello, World!\"))   # Должно вывести: \"hello, world!\"\n",
    "print(transform_string(\"Hello\"))   # Должно вывести: \"Hello\"\n",
    "print(transform_string(\"Hi\"))      # Должно вывести: \"HI\"\n",
    "\n",
    "\n"
   ]
  },
  {
   "cell_type": "code",
   "execution_count": 73,
   "metadata": {},
   "outputs": [
    {
     "name": "stdout",
     "output_type": "stream",
     "text": [
      "[12, 14, 16, 18]\n"
     ]
    }
   ],
   "source": [
    "# 3) Задача на функции map и filter\n",
    "# Создайте список целых чисел. Используя функции map и filter, напишите программу, которая оставляет только четные числа и увеличивает каждое из них на 10.\n",
    "\n",
    "# numbers = [1, 2, 3, 4, 5, 6, 7, 8, 9]\n",
    "\n",
    "# # Ваш код здесь\n",
    "\n",
    "# # Пример использования\n",
    "# print(new_numbers)  # Должно вывести: [12, 14, 16, 18]\n",
    "\n",
    "numbers = [1, 2, 3, 4, 5, 6, 7, 8, 9]\n",
    "\n",
    "new_numbers = list(map(lambda x: x + 10, filter(lambda x: x % 2 == 0, numbers)))\n",
    "\n",
    "\n",
    "print(new_numbers)"
   ]
  },
  {
   "cell_type": "code",
   "execution_count": 74,
   "metadata": {},
   "outputs": [
    {
     "name": "stdout",
     "output_type": "stream",
     "text": [
      "10\n",
      "15\n"
     ]
    }
   ],
   "source": [
    "# 4) Задача на замыкания\n",
    "# Напишите функцию multiply_by, которая принимает один аргумент n и возвращает функцию, которая принимает один аргумент x и возвращает результат умножения x на n. Используйте замыкание для сохранения значения n в возвращенной функции.\n",
    "\n",
    "# def multiply_by(n):\n",
    "#     # Ваш код здесь\n",
    "#     pass\n",
    "\n",
    "# # Пример использования\n",
    "# doubler = multiply_by(2)\n",
    "# print(doubler(5))  # Должно вывести: 10\n",
    "# tripler = multiply_by(3)\n",
    "# print(tripler(5))  # Должно вывести: 15\n",
    "\n",
    "def multiply_by(n):\n",
    "    def multiply(x):\n",
    "        return x * n\n",
    "    return multiply\n",
    "\n",
    "double = multiply_by(2)\n",
    "print(double(5))\n",
    "\n",
    "triple = multiply_by(3)\n",
    "print(triple(5))"
   ]
  }
 ],
 "metadata": {
  "kernelspec": {
   "display_name": "Python 3",
   "language": "python",
   "name": "python3"
  },
  "language_info": {
   "codemirror_mode": {
    "name": "ipython",
    "version": 3
   },
   "file_extension": ".py",
   "mimetype": "text/x-python",
   "name": "python",
   "nbconvert_exporter": "python",
   "pygments_lexer": "ipython3",
   "version": "3.12.6"
  }
 },
 "nbformat": 4,
 "nbformat_minor": 2
}
