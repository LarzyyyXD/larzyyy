{
 "cells": [
  {
   "cell_type": "markdown",
   "metadata": {},
   "source": [
    "Задание 1 <br>\n",
    "Необходимо отсортировать первые две трети списка <br>\n",
    "в порядке возрастания, если среднее арифметическое <br>\n",
    "всех элементов больше нуля; иначе — лишь первую треть. <br>\n",
    "Остальную часть списка не сортировать, а расположить <br>\n",
    "в обратном порядке."
   ]
  },
  {
   "cell_type": "code",
   "execution_count": 41,
   "metadata": {},
   "outputs": [
    {
     "name": "stdout",
     "output_type": "stream",
     "text": [
      "[-8, -10, -6, 7, -1, 8, 9, -4, -1, -4, -3]\n",
      "[-10, -8, -6, -3, -4, -1, -4, 9, 8, -1, 7]\n"
     ]
    }
   ],
   "source": [
    "from random import randint\n",
    "\n",
    "def func(lst, n):\n",
    "    return sorted(lst[:n]) + lst[n:][::-1]\n",
    "    \n",
    "a = [randint(-10,11) for _ in range(11)]\n",
    "m = len(a)\n",
    "k = m//3 + (m==0)\n",
    "print(a)\n",
    "res = func(a, (1 + (sum(a)/k > 0))*k)\n",
    "print(res)"
   ]
  },
  {
   "cell_type": "markdown",
   "metadata": {},
   "source": [
    "Задание 2 <br>\n",
    "Написать программу «успеваемость». Пользователь <br>\n",
    "вводит 10 оценок студента. Оценки от 1 до 12. Реализовать <br>\n",
    "меню для пользователя: <br>\n",
    "Вывод оценок (вывод содержимого списка); <br>\n",
    "Пересдача экзамена (пользователь вводит номер элемента списка и новую оценку); <br>\n",
    "Выходит ли стипендия (стипендия выходит, если <br>\n",
    "средний бал не ниже 10.7); <br>\n",
    "Вывод отсортированного списка оценок: по возрастанию или убыванию. <br>"
   ]
  },
  {
   "cell_type": "code",
   "execution_count": 79,
   "metadata": {},
   "outputs": [
    {
     "name": "stdout",
     "output_type": "stream",
     "text": [
      "\n",
      "Меню:\n",
      "1. Вывод оценок\n",
      "2. Пересдача экзамена\n",
      "3. Выходит ли стипендия\n",
      "4. Вывод отсортированных оценок\n",
      "5. Выход\n",
      "[3, 5, 1, 7, 11, 8, 2, 1, 5, 1]\n",
      "[3, 5, 1, 7, 11, 8, 2, 1, 5, 1]\n",
      "[3, 5, 1, 7, 11, 8, 2, 1, 5, 1]\n"
     ]
    }
   ],
   "source": [
    "import random \n",
    "lst1  = [randint(1, 12) for _ in range(1, 11)]\n",
    "def func(lst):\n",
    "    print(\"\\nМеню:\")\n",
    "    print(\"1. Вывод оценок\")\n",
    "    print(\"2. Пересдача экзамена\")\n",
    "    print(\"3. Выходит ли стипендия\")\n",
    "    print(\"4. Вывод отсортированных оценок\")\n",
    "    print(\"5. Выход\")\n",
    "    while True:\n",
    "\n",
    "        menu = input('Введите 1-5:')\n",
    "        if menu == '1':\n",
    "            print(lst)\n",
    "\n",
    "        elif menu == \"2\":\n",
    "            index_user = int(input('По индексу от 0-9:'))\n",
    "            value_user = int(input(' Оценка от 1-12:'))\n",
    "            if value_user > 12 and value_user < 1:\n",
    "                lst[index_user] = value_user\n",
    "\n",
    "        elif menu == '3':\n",
    "            mean = sum(lst) / len(lst) \n",
    "\n",
    "            if mean < 10.7: \n",
    "                print('Без стипендии сегодня..')\n",
    "\n",
    "            elif mean > 10.7:\n",
    "                print('Стипуха твоя, так держать!')\n",
    "\n",
    "        elif menu == '4':\n",
    "            sort_user = input('0 - по возрастанию, 1 - по убыванию')\n",
    "            if sort_user == '0':\n",
    "                lst = sorted(lst)\n",
    "                print(lst)\n",
    "            elif sort_user == '1':\n",
    "                lst = sorted(lst, reverse=True)\n",
    "                print(lst)\n",
    "\n",
    "\n",
    "        elif menu == '5':\n",
    "            break\n",
    "\n",
    "        else:\n",
    "            print('Вы ввели что-то другое')\n",
    "func(lst1)"
   ]
  }
 ],
 "metadata": {
  "kernelspec": {
   "display_name": "Python 3",
   "language": "python",
   "name": "python3"
  },
  "language_info": {
   "codemirror_mode": {
    "name": "ipython",
    "version": 3
   },
   "file_extension": ".py",
   "mimetype": "text/x-python",
   "name": "python",
   "nbconvert_exporter": "python",
   "pygments_lexer": "ipython3",
   "version": "3.12.6"
  }
 },
 "nbformat": 4,
 "nbformat_minor": 2
}
