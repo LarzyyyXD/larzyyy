{
 "cells": [
  {
   "cell_type": "code",
   "execution_count": 13,
   "metadata": {},
   "outputs": [
    {
     "name": "stdout",
     "output_type": "stream",
     "text": [
      "Отсортированый список: [3, 7, 8, 15, 18, 21, 22, 32, 33, 41, 59, 61, 64, 72, 81, 82, 89, 92, 93]\n",
      "Число поиска: 12\n",
      "Индекс: не нашли ваше число\n"
     ]
    }
   ],
   "source": [
    "from random import randint\n",
    "\n",
    "def linear_search(arr, target):\n",
    "    for i in range(len(arr)):\n",
    "        if arr[i] == target:\n",
    "            return i\n",
    "    return 'не нашли ваше число.'\n",
    "def main():\n",
    "    lst1 = [randint(1, 100) for _ in range(5)]\n",
    "    lst2 = [randint(1, 100) for _ in range(5)]\n",
    "    lst3 = [randint(1, 100) for _ in range(5)]\n",
    "    lst4 = [randint(1, 100) for _ in range(5)]\n",
    "    \n",
    "    lst5 = list(set(lst1 + lst2 + lst3 + lst4))\n",
    "    \n",
    "    user_sort = input('введите 0 для сортировки по возрастанию, 1 для сортировки по убыванию ')\n",
    "    if user_sort == '0':\n",
    "        lst5.sort()  \n",
    "    elif user_sort == '1':\n",
    "        lst5.sort(reverse=True) \n",
    "    else:\n",
    "        print(\"Вы ввели не то.\")\n",
    "    \n",
    "    print(\"Отсортированый список:\",lst5)\n",
    "    \n",
    "    user_num = int(input(\"Введите значение для поиска: \"))\n",
    "    print('Число поиска:',user_num)\n",
    "    print('Индекс:', linear_search(lst5, user_num))\n",
    "\n",
    "\n",
    "    \n",
    "            \n",
    "\n",
    "\n",
    "if __name__ == \"__main__\":\n",
    "    main()"
   ]
  }
 ],
 "metadata": {
  "kernelspec": {
   "display_name": "Python 3",
   "language": "python",
   "name": "python3"
  },
  "language_info": {
   "codemirror_mode": {
    "name": "ipython",
    "version": 3
   },
   "file_extension": ".py",
   "mimetype": "text/x-python",
   "name": "python",
   "nbconvert_exporter": "python",
   "pygments_lexer": "ipython3",
   "version": "3.12.6"
  }
 },
 "nbformat": 4,
 "nbformat_minor": 2
}
