{
 "cells": [
  {
   "cell_type": "code",
   "execution_count": 5,
   "metadata": {},
   "outputs": [
    {
     "name": "stdout",
     "output_type": "stream",
     "text": [
      "Отсортированый список: [3, 3, 13, 14, 17, 18, 25, 26, 31, 43, 43, 66, 72, 76, 78, 82, 83, 93, 94, 99]\n",
      "Не получилось найти ваше значение.\n"
     ]
    }
   ],
   "source": [
    "from random import randint\n",
    "from itertools import chain \n",
    "\n",
    "def main():\n",
    "    lst1 = [randint(1, 100) for _ in range(5)]\n",
    "    lst2 = [randint(1, 100) for _ in range(5)]\n",
    "    lst3 = [randint(1, 100) for _ in range(5)]\n",
    "    lst4 = [randint(1, 100) for _ in range(5)]\n",
    "    \n",
    "    lst5 = list(itertools.chain(lst1, lst2, lst3, lst4))\n",
    "    \n",
    "    user_sort = input('введите 0 для сортировки по возрастанию, 1 для сортировки по убыванию ')\n",
    "    if user_sort == '0':\n",
    "        lst5.sort()  \n",
    "    elif user_sort == '1':\n",
    "        lst5.sort(reverse=True) \n",
    "    else:\n",
    "        print(\"Вы ввели не то.\")\n",
    "    \n",
    "    print(\"Отсортированый список:\",lst5)\n",
    "    \n",
    "    user_num = int(input(\"Введите значение для поиска: \"))\n",
    "    \n",
    "    found = False\n",
    "    for i in lst5:\n",
    "        if user_num == i:\n",
    "            found = True\n",
    "            break\n",
    "    if found:\n",
    "        print('ваше значение', user_num)\n",
    "    else:\n",
    "        print('Не получилось найти ваше значение.')\n",
    "\n",
    "if __name__ == \"__main__\":\n",
    "    main()"
   ]
  }
 ],
 "metadata": {
  "kernelspec": {
   "display_name": "Python 3",
   "language": "python",
   "name": "python3"
  },
  "language_info": {
   "codemirror_mode": {
    "name": "ipython",
    "version": 3
   },
   "file_extension": ".py",
   "mimetype": "text/x-python",
   "name": "python",
   "nbconvert_exporter": "python",
   "pygments_lexer": "ipython3",
   "version": "3.12.6"
  }
 },
 "nbformat": 4,
 "nbformat_minor": 2
}
