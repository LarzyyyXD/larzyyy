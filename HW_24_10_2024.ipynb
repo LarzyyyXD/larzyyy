{
 "cells": [
  {
   "cell_type": "markdown",
   "metadata": {},
   "source": [
    "1. Числа Фибоначчи: Напишите программу, которая выводит первые 50 чисел Фибоначчи. <br>\n",
    "Напоминаем, что ряд Фибоначчи начинается с чисел 0 и 1, а каждое последующее число равно сумме двух предыдущих."
   ]
  },
  {
   "cell_type": "code",
   "execution_count": 66,
   "metadata": {},
   "outputs": [
    {
     "name": "stdout",
     "output_type": "stream",
     "text": [
      "1\n",
      "2\n",
      "3\n",
      "5\n",
      "8\n",
      "13\n",
      "21\n",
      "34\n",
      "55\n",
      "89\n",
      "144\n",
      "233\n",
      "377\n",
      "610\n",
      "987\n",
      "1597\n",
      "2584\n",
      "4181\n",
      "6765\n",
      "10946\n",
      "17711\n",
      "28657\n",
      "46368\n",
      "75025\n",
      "121393\n",
      "196418\n",
      "317811\n",
      "514229\n",
      "832040\n",
      "1346269\n",
      "2178309\n",
      "3524578\n",
      "5702887\n",
      "9227465\n",
      "14930352\n",
      "24157817\n",
      "39088169\n",
      "63245986\n",
      "102334155\n",
      "165580141\n",
      "267914296\n",
      "433494437\n",
      "701408733\n",
      "1134903170\n",
      "1836311903\n",
      "2971215073\n",
      "4807526976\n",
      "7778742049\n"
     ]
    }
   ],
   "source": [
    "fib1 = 0\n",
    "fib2 = 1      \n",
    "\n",
    "n = 50\n",
    "\n",
    "for i in range(n-2):\n",
    "    fib1, fib2 = fib2, fib1 + fib2\n",
    "    print(fib2)"
   ]
  },
  {
   "cell_type": "markdown",
   "metadata": {},
   "source": [
    "Сумма цифр: Напишите программу, которая принимает на вход натуральное число и вычисляет сумму его цифр.\n",
    "\n"
   ]
  },
  {
   "cell_type": "code",
   "execution_count": 41,
   "metadata": {},
   "outputs": [
    {
     "name": "stdout",
     "output_type": "stream",
     "text": [
      "6\n"
     ]
    }
   ],
   "source": [
    "numbers = (input('Введите натуральнео число:'))\n",
    "sum = 0\n",
    "for i in numbers:\n",
    "    sum += int(i)\n",
    "\n",
    "print(sum)"
   ]
  },
  {
   "cell_type": "markdown",
   "metadata": {},
   "source": [
    "3. Игра \"Угадай число\": Напишите программу, которая \"загадывает\" случайное число от 1 до 100 и предлагает пользователю его угадать. <br>\n",
    "После каждого ввода числа программа должна сообщать, больше загаданное число, меньше или равно. <br>\n",
    "Игра продолжается, пока пользователь не угадает число. <br>\n",
    "В конце игры программа должна вывести количество попыток."
   ]
  },
  {
   "cell_type": "code",
   "execution_count": 11,
   "metadata": {},
   "outputs": [
    {
     "name": "stdout",
     "output_type": "stream",
     "text": [
      "Загаданное число больше чем: 50\n",
      "Загаданное число меньше чем: 70\n",
      "Загаданное число меньше чем: 70\n",
      "Загаданное число меньше чем: 66\n",
      "Загаданное число больше чем: 59\n",
      "Загаданное число меньше чем: 64\n",
      "вы угадали: 60 \n",
      "Количество попыток: 7\n"
     ]
    }
   ],
   "source": [
    "import random\n",
    "\n",
    "list1 = random.randint(1,100)\n",
    "count = 0\n",
    "\n",
    "\n",
    "while True:\n",
    "    user_num = int(input('Игра \"Угадай число от 1 до 100\"'))\n",
    "    if user_num > list1:\n",
    "        print(f'Загаданное число меньше чем: {user_num}')\n",
    "        count += 1\n",
    "        \n",
    "    elif user_num < list1:\n",
    "        print(f'Загаданное число больше чем: {user_num}')\n",
    "        count += 1\n",
    "        \n",
    "    else:\n",
    "        print(f\"вы угадали: {user_num} \")\n",
    "        count += 1\n",
    "        break\n",
    "\n",
    "print(f'Количество попыток: {count}')\n"
   ]
  },
  {
   "cell_type": "markdown",
   "metadata": {},
   "source": [
    "4. Звездочки: Напишите программу, которая рисует прямоугольник из звездочек, используя циклы. <br>\n",
    "Пользователь вводит высоту и ширину прямоугольника."
   ]
  },
  {
   "cell_type": "code",
   "execution_count": 84,
   "metadata": {},
   "outputs": [
    {
     "name": "stdout",
     "output_type": "stream",
     "text": [
      "********************\n",
      "*                  *\n",
      "*                  *\n",
      "*                  *\n",
      "*                  *\n",
      "*                  *\n",
      "*                  *\n",
      "*                  *\n",
      "*                  *\n",
      "*                  *\n",
      "*                  *\n",
      "*                  *\n",
      "*                  *\n",
      "*                  *\n",
      "*                  *\n",
      "*                  *\n",
      "*                  *\n",
      "*                  *\n",
      "*                  *\n",
      "********************\n"
     ]
    }
   ],
   "source": [
    "h = int(input('h '))\n",
    "w = int(input('w '))\n",
    "\n",
    "for i in range(1, h+1):\n",
    "    if i == 1 or i == h:\n",
    "        print('*' * w)\n",
    "    else:\n",
    "        print('*' + ' ' * (w-2) + '*')"
   ]
  },
  {
   "cell_type": "markdown",
   "metadata": {},
   "source": [
    "4. Звездочки: Напишите программу, которая рисует прямоугольник из звездочек, используя циклы. <br>\n",
    "Пользователь вводит высоту и ширину прямоугольника."
   ]
  },
  {
   "cell_type": "markdown",
   "metadata": {},
   "source": [
    "4. Звездочки: Напишите программу, которая рисует прямоугольник из звездочек, используя циклы. <br>\n",
    "Пользователь вводит высоту и ширину прямоугольника."
   ]
  },
  {
   "cell_type": "markdown",
   "metadata": {},
   "source": [
    "5. Факториал: Напишите программу, которая вычисляет факториал заданного пользователем числа. <br>\n",
    " Факториал числа n (обозначается n!) — это произведение всех натуральных чисел от 1 до n. <br>\n",
    " Использовать функцию factorial() из библиотеки math запрещается! <br>"
   ]
  },
  {
   "cell_type": "code",
   "execution_count": 35,
   "metadata": {},
   "outputs": [
    {
     "name": "stdout",
     "output_type": "stream",
     "text": [
      "6\n"
     ]
    }
   ],
   "source": [
    "n = int(input())\n",
    "\n",
    "factorial = 1\n",
    "\n",
    "for i in range(2, n+1):\n",
    "    factorial *= i\n",
    "\n",
    "print(factorial)"
   ]
  }
 ],
 "metadata": {
  "kernelspec": {
   "display_name": "Python 3",
   "language": "python",
   "name": "python3"
  },
  "language_info": {
   "codemirror_mode": {
    "name": "ipython",
    "version": 3
   },
   "file_extension": ".py",
   "mimetype": "text/x-python",
   "name": "python",
   "nbconvert_exporter": "python",
   "pygments_lexer": "ipython3",
   "version": "3.12.6"
  }
 },
 "nbformat": 4,
 "nbformat_minor": 2
}
