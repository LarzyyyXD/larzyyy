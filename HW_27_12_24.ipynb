{
 "cells": [
  {
   "cell_type": "code",
   "execution_count": 3,
   "metadata": {},
   "outputs": [
    {
     "name": "stdout",
     "output_type": "stream",
     "text": [
      "red SUV\n",
      "black sedan\n"
     ]
    }
   ],
   "source": [
    "# Задание 1: Атрибуты класса\n",
    "# Создайте класс Car с атрибутами класса\n",
    "# default_color и default_model.\n",
    "# default_color должен быть равен \"black\".\n",
    "# default_model должен быть равен \"sedan\".\n",
    "# Добавьте в класс Car конструктор, который\n",
    "# принимает параметры color и model.\n",
    "# Если color не передан, используйте значение\n",
    "# атрибута класса default_color.\n",
    "# Если model не передан, используйте значение\n",
    "# атрибута класса default_model.\n",
    "# Создайте два объекта класса Car:\n",
    "# Первый объект с параметрами color=\"red\" и\n",
    "# model=\"SUV\".\n",
    "# Второй объект без параметров.\n",
    "# Выведите на экран атрибуты color и model для\n",
    "# обоих объектов.\n",
    "\n",
    "class Car:\n",
    "    default_color = 'black'\n",
    "    default_model = 'sedan'\n",
    "    def __init__(self, color, model):\n",
    "        if color:\n",
    "            self.color = color\n",
    "\n",
    "        else:\n",
    "            self.color = Car.default_color \n",
    "        \n",
    "        if model:\n",
    "            self.model = model \n",
    "        \n",
    "        else:\n",
    "            self.model = Car.default_model \n",
    "\n",
    "obj1 = Car('red', 'SUV')\n",
    "print(obj1.color, obj1.model)\n",
    "obj2 = Car('', '')\n",
    "print(obj2.color, obj2.model)\n"
   ]
  },
  {
   "cell_type": "code",
   "execution_count": 15,
   "metadata": {},
   "outputs": [
    {
     "name": "stdout",
     "output_type": "stream",
     "text": [
      "3\n",
      "9\n"
     ]
    }
   ],
   "source": [
    "# Задание 2: Статические методы\n",
    "# Создайте класс MathOperations с двумя\n",
    "# статическими методами:\n",
    "# add(a, b) — возвращает сумму двух чисел.\n",
    "# multiply(a, b) — возвращает произведение двух\n",
    "# чисел.\n",
    "# Вызовите оба статических метода через имя\n",
    "# класса и через объект класса\n",
    "\n",
    "class MathOperations:\n",
    "    \n",
    "    @staticmethod\n",
    "    def add(a, b):\n",
    "        print(f'{a + b}')\n",
    "    \n",
    "    @staticmethod\n",
    "    def multiply(a, b):\n",
    "        print(f'{a * b}')\n",
    "    \n",
    "\n",
    "MathOperations.add(1, 2)\n",
    "\n",
    "test1 = MathOperations()\n",
    "test1.multiply(3, 3)\n",
    "\n",
    "    \n",
    "    "
   ]
  },
  {
   "cell_type": "code",
   "execution_count": 8,
   "metadata": {},
   "outputs": [
    {
     "name": "stdout",
     "output_type": "stream",
     "text": [
      "6\n",
      "8\n"
     ]
    }
   ],
   "source": [
    "# Задание 3: Перегрузка операторов\n",
    "# Создайте класс Vector с атрибутом values,\n",
    "# который представляет собой список чисел.\n",
    "# Реализуйте перегрузку оператора сложения\n",
    "# (__add__) для класса Vector.\n",
    "# Сложение двух объектов Vector должно\n",
    "# возвращать новый объект Vector, значения\n",
    "# которого являются суммой соответствующих\n",
    "# элементов двух векторов.\n",
    "# Реализуйте перегрузку оператора умножения\n",
    "# (__mul__) для класса Vector.\n",
    "# Умножение двух объектов Vector должно\n",
    "# возвращать скалярное произведение векторов.\n",
    "# Создайте два объекта Vector с разными\n",
    "# значениями и выполните сложение и\n",
    "# умножение.\n",
    "\n",
    "class Vector:\n",
    "    def __init__(self, value):\n",
    "        self.value = value \n",
    "\n",
    "    def __add__(self, other):\n",
    "        return Vector(self.value + other.value)\n",
    "    \n",
    "    def __mul__(self, other):\n",
    "        return Vector(self.value * other.value)\n",
    "    \n",
    "\n",
    "v1 = Vector(4)\n",
    "v2 = Vector(2)\n",
    "res = v1 + v2\n",
    "print(res.value)\n",
    "res = v1 * v2 \n",
    "print(res.value)\n",
    "\n"
   ]
  },
  {
   "cell_type": "code",
   "execution_count": 35,
   "metadata": {},
   "outputs": [
    {
     "name": "stdout",
     "output_type": "stream",
     "text": [
      "True\n",
      "False\n"
     ]
    }
   ],
   "source": [
    "# Задание 4: Проверка наличия свойства\n",
    "# Создайте класс Person с атрибутами name и age.\n",
    "# Реализуйте метод __contains__, который\n",
    "# проверяет, содержит ли объект атрибут с\n",
    "# указанным именем.\n",
    "# Если переданное имя атрибута равно \"name\" или\n",
    "# \"age\", метод должен возвращать True.\n",
    "# В противном случае — False.\n",
    "# Создайте объект Person и проверьте наличие\n",
    "# атрибутов \"name\" и \"id\" с помощью оператора\n",
    "# in.\n",
    "\n",
    "class Person:\n",
    "    def __init__(self, name, age):\n",
    "        self.name = name\n",
    "        self.age = age\n",
    "    \n",
    "    def __contains__(self, _):\n",
    "        return _ in ['name', 'age'] # как я понял из повторения in (чуть-чуть про него забыл,\n",
    "# а понял это из-за того что пайтон начал ругаться, ему нужна любая переменная для итерации, можно хоть \"name\" написать и все равно работает :D )\n",
    "\n",
    "\n",
    "person = Person(\"Andrej\", 18)\n",
    "print(\"name\" in person.__dict__) \n",
    "# print(\"age\" in person.__dict__) \n",
    "\n",
    "print(\"id\" in person.__dict__)\n",
    " \n",
    "\n"
   ]
  }
 ],
 "metadata": {
  "kernelspec": {
   "display_name": "Python 3",
   "language": "python",
   "name": "python3"
  },
  "language_info": {
   "codemirror_mode": {
    "name": "ipython",
    "version": 3
   },
   "file_extension": ".py",
   "mimetype": "text/x-python",
   "name": "python",
   "nbconvert_exporter": "python",
   "pygments_lexer": "ipython3",
   "version": "3.12.6"
  }
 },
 "nbformat": 4,
 "nbformat_minor": 2
}
