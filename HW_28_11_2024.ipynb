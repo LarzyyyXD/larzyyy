{
 "cells": [
  {
   "cell_type": "code",
   "execution_count": 8,
   "metadata": {},
   "outputs": [
    {
     "name": "stdout",
     "output_type": "stream",
     "text": [
      "[70, 19, 3, 50, 23, 98, 38, 83, 1, 76] [23, 72, 74, 37, 62, 60, 46, 49, 21, 27] [24, 76, 55, 27, 29, 52, 56, 43, 2, 89] [86, 88, 78, 37, 24, 20, 82, 47, 25, 82]\n",
      "[1, 98, 3, 38, 70, 50, 19, 83]\n"
     ]
    }
   ],
   "source": [
    "from random import randint \n",
    "\n",
    "lst1 = [randint(1, 100) for _ in range(10)]\n",
    "lst2 = [randint(1, 100) for _ in range(10)]\n",
    "lst3 = [randint(1, 100) for _ in range(10)]\n",
    "lst4 = [randint(1, 100) for _ in range(10)]\n",
    "\n",
    "print(\"Сгенерированные списки:\")\n",
    "print(lst1, lst2, lst3, lst4)\n",
    "\n",
    "lst5 = list(set(lst1) - set(lst2) - set(lst3) - set(lst4))\n",
    "\n",
    "def binary_search(a, value, down=False):\n",
    "    low = 0\n",
    "    high = len(a) - 1\n",
    "\n",
    "    while low <= high:\n",
    "        mid = (low + high) // 2\n",
    "        if a[mid] == value:\n",
    "            print('Значение найдено, индекс =', mid)\n",
    "            return mid\n",
    "        elif (value > a[mid] and not down) or (value < a[mid] and down):\n",
    "            low = mid + 1\n",
    "        else:\n",
    "            high = mid - 1\n",
    "\n",
    "    print('Значение не найдено')\n",
    "    return -1\n",
    "\n",
    "print(\"Уникальные элементы (lst5):\", lst5)\n",
    "\n",
    "lst5.sort()\n",
    "\n",
    "while True:\n",
    "    user_input = input('0 - по убыванию, 1 - по возрастанию, 2 - найти ваше значение, 3 - выйти: ')\n",
    "    if user_input == '1':\n",
    "        lst5.sort()  \n",
    "        print(lst5)\n",
    "    elif user_input == '0':\n",
    "        lst5.sort(reverse=True)  \n",
    "        print(lst5)\n",
    "    elif user_input == '2':\n",
    "        user_num = int(input('Введите число: '))\n",
    "        down = True if lst5[0] > lst5[-1] else False\n",
    "        binary_search(lst5, user_num, down)\n",
    "    elif user_input == '3':\n",
    "        break\n",
    "    else:\n",
    "        print(\"Неверный ввод, попробуйте еще раз.\")\n",
    "\n"
   ]
  }
 ],
 "metadata": {
  "kernelspec": {
   "display_name": "Python 3",
   "language": "python",
   "name": "python3"
  },
  "language_info": {
   "codemirror_mode": {
    "name": "ipython",
    "version": 3
   },
   "file_extension": ".py",
   "mimetype": "text/x-python",
   "name": "python",
   "nbconvert_exporter": "python",
   "pygments_lexer": "ipython3",
   "version": "3.12.6"
  }
 },
 "nbformat": 4,
 "nbformat_minor": 2
}
