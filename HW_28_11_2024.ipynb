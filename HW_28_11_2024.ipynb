{
 "cells": [
  {
   "cell_type": "code",
   "execution_count": 55,
   "metadata": {},
   "outputs": [
    {
     "name": "stdout",
     "output_type": "stream",
     "text": [
      "Сгенерированные списки:\n",
      "[74, 32, 36, 18, 32, 2, 21, 75, 7, 66] [81, 85, 80, 91, 66, 30, 46, 13, 98, 88] [24, 36, 27, 54, 53, 41, 33, 93, 12, 58] [61, 79, 32, 12, 57, 19, 74, 96, 55, 53]\n",
      "Уникальные элементы: [2, 7, 75, 13, 79, 80, 81, 18, 19, 85, 21, 24, 88, 27, 91, 93, 30, 96, 33, 98, 41, 46, 54, 55, 57, 58, 61]\n",
      "[98, 96, 93, 91, 88, 85, 81, 80, 79, 75, 61, 58, 57, 55, 54, 46, 41, 33, 30, 27, 24, 21, 19, 18, 13, 7, 2]\n",
      "85\n",
      "Значение найдено, индекс = 5\n"
     ]
    }
   ],
   "source": [
    "from random import randint \n",
    "\n",
    "lst1 = [randint(1, 100) for _ in range(10)]\n",
    "lst2 = [randint(1, 100) for _ in range(10)]\n",
    "lst3 = [randint(1, 100) for _ in range(10)]\n",
    "lst4 = [randint(1, 100) for _ in range(10)]\n",
    "\n",
    "print(\"Сгенерированные списки:\")\n",
    "print(lst1, lst2, lst3, lst4)\n",
    "\n",
    "unique_elements = (set(lst1) ^ set(lst2)) ^ (set(lst3) ^ set(lst4))\n",
    "\n",
    "lst5 = list(unique_elements)\n",
    "def binary_search(a, value, down=False):\n",
    "    low = 0\n",
    "    high = len(a) - 1\n",
    "\n",
    "    while low <= high:\n",
    "        mid = (low + high) // 2\n",
    "        if a[mid] == value:\n",
    "            print('Значение найдено, индекс =', mid)\n",
    "            return mid\n",
    "        elif (value > a[mid] and not down) or (value < a[mid] and down):\n",
    "            low = mid + 1\n",
    "        else:\n",
    "            high = mid - 1\n",
    "\n",
    "    print('Значение не найдено')\n",
    "    return -1\n",
    "\n",
    "print(\"Уникальные элементы:\", lst5)\n",
    "\n",
    "lst5.sort()\n",
    "\n",
    "while True:\n",
    "    user_input = input('1 - по возрастанию, 0 - по убыванию, 2 - найти ваше значение, 3 - выйти: ')\n",
    "    if user_input == '1':\n",
    "        lst5.sort()  \n",
    "        print(lst5)\n",
    "    elif user_input == '0':\n",
    "        lst5.sort(reverse=True)  \n",
    "        print(lst5)\n",
    "    elif user_input == '2':\n",
    "        user_num = int(input('Введите число: '))\n",
    "        print(user_num)\n",
    "        down = True if lst5[0] > lst5[-1] else False\n",
    "        binary_search(lst5, user_num, down)\n",
    "    elif user_input == '3':\n",
    "        break\n",
    "    else:\n",
    "        print(\"Неверный ввод, попробуйте еще раз.\")"
   ]
  },
  {
   "cell_type": "code",
   "execution_count": 54,
   "metadata": {},
   "outputs": [
    {
     "name": "stdout",
     "output_type": "stream",
     "text": [
      "[8, 9, 12, 16, 16] [6, 18, 4, 7, 11] [16, 15, 20, 17, 20] [11, 17, 9, 3, 12]\n",
      "[8, 9, 12, 16, 16, 6, 18, 4, 7, 11, 16, 15, 20, 17, 20, 11, 17, 9, 3, 12]\n",
      "[3, 4, 6, 7, 8, 9, 11, 12, 15, 16, 17, 18, 20]\n"
     ]
    }
   ],
   "source": [
    "\n"
   ]
  }
 ],
 "metadata": {
  "kernelspec": {
   "display_name": "Python 3",
   "language": "python",
   "name": "python3"
  },
  "language_info": {
   "codemirror_mode": {
    "name": "ipython",
    "version": 3
   },
   "file_extension": ".py",
   "mimetype": "text/x-python",
   "name": "python",
   "nbconvert_exporter": "python",
   "pygments_lexer": "ipython3",
   "version": "3.12.6"
  }
 },
 "nbformat": 4,
 "nbformat_minor": 2
}
