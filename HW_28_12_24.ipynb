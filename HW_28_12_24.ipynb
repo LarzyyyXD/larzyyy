{
 "cells": [
  {
   "cell_type": "code",
   "execution_count": 147,
   "metadata": {},
   "outputs": [
    {
     "name": "stdout",
     "output_type": "stream",
     "text": [
      "2.000746726989746\n"
     ]
    }
   ],
   "source": [
    "# Задание 1: Декораторы\n",
    "# Создайте декоратор timer, который измеряет время выполнения функции.\n",
    "# Декоратор должен выводить время, затраченное на выполнение функции.\n",
    "# определение функции декоратора\n",
    "import time\n",
    "def timer(input_func):    \n",
    "    def output_func():      # определяем функцию, которая будет выполняться вместо оригинальной\n",
    "        start_timer = time.time()\n",
    "        input_func()                # вызов оригинальной функции\n",
    "        end_timer = time.time()\n",
    "        execution_time = end_timer - start_timer\n",
    "        print(execution_time)\n",
    "    return output_func     # возвращаем новую функцию\n",
    "    \n",
    "# определение оригинальной функции\n",
    "@timer        \n",
    "def my_function():\n",
    "    time.sleep(2)\n",
    " \n",
    "# вызов оригинальной функции\n",
    "my_function()"
   ]
  },
  {
   "cell_type": "code",
   "execution_count": 148,
   "metadata": {},
   "outputs": [
    {
     "name": "stdout",
     "output_type": "stream",
     "text": [
      "Попытка 1 завершилась с ошибкой: Случайная ошибка!\n",
      "Попытка 2 завершилась с ошибкой: Случайная ошибка!\n",
      "Успешно!\n"
     ]
    }
   ],
   "source": [
    "# 2) Создайте декоратор retry, который повторяет выполнение функции\n",
    "# в случае возникновения исключения.\n",
    "# Декоратор должен принимать параметр max_retries, который указывает\n",
    "# максимальное количество попыток.\n",
    "# Если после max_retries попыток функция не выполнится успешно,\n",
    "# декоратор должен выбросить исключение.\n",
    "import random\n",
    "\n",
    "def retry(max_retries):\n",
    "    def decorator(func):\n",
    "        def wrapper(*args, **kwargs):\n",
    "            attempt = 0\n",
    "            while attempt < max_retries:\n",
    "                try:\n",
    "                    return func(*args, **kwargs)\n",
    "                except Exception as e:\n",
    "                    attempt += 1\n",
    "                    print(f\"Попытка {attempt} завершилась с ошибкой: {e}\")\n",
    "            raise Exception(f\"Функция не выполнена успешно после {max_retries} попыток.\")\n",
    "        return wrapper\n",
    "    return decorator\n",
    "\n",
    "@retry(max_retries=3)\n",
    "def flaky_function():\n",
    "    if random.randint(0, 1) == 0:\n",
    "        raise ValueError(\"Случайная ошибка!\")\n",
    "    return \"Успешно!\"\n",
    "\n",
    "try:\n",
    "    print(flaky_function())\n",
    "except Exception as e:\n",
    "    print(e)\n"
   ]
  },
  {
   "cell_type": "code",
   "execution_count": 149,
   "metadata": {},
   "outputs": [
    {
     "name": "stdout",
     "output_type": "stream",
     "text": [
      "1\n",
      "2\n",
      "3\n"
     ]
    }
   ],
   "source": [
    "# 3) Задание : Замыкания\n",
    "# Создайте функцию counter, которая возвращает функцию,\n",
    "# подсчитывающую количество вызовов.\n",
    "# Пример использования\n",
    "\n",
    "def counter():        \n",
    "    n = 0          \n",
    " \n",
    "    def inner():      \n",
    "        nonlocal n\n",
    "        n += 1        \n",
    "        \n",
    "        return n \n",
    "    return inner \n",
    " \n",
    " \n",
    "counter_func = counter()   \n",
    "print(counter_func())    \n",
    "print(counter_func())  \n",
    "print(counter_func())   \n"
   ]
  },
  {
   "cell_type": "code",
   "execution_count": 150,
   "metadata": {},
   "outputs": [
    {
     "name": "stdout",
     "output_type": "stream",
     "text": [
      "15\n",
      "30\n"
     ]
    }
   ],
   "source": [
    "# 4) Создайте функцию make_multiplier, которая принимает число и\n",
    "# возвращает функцию, умножающую на это число.\n",
    "def make_multiplier(n):\n",
    "    def inner(m): return n * m\n",
    " \n",
    "    return inner\n",
    " \n",
    " \n",
    "multiply_by_3 = make_multiplier(3)\n",
    "\n",
    "print(multiply_by_3(5))\n",
    "print(multiply_by_3(10))"
   ]
  }
 ],
 "metadata": {
  "kernelspec": {
   "display_name": "Python 3",
   "language": "python",
   "name": "python3"
  },
  "language_info": {
   "codemirror_mode": {
    "name": "ipython",
    "version": 3
   },
   "file_extension": ".py",
   "mimetype": "text/x-python",
   "name": "python",
   "nbconvert_exporter": "python",
   "pygments_lexer": "ipython3",
   "version": "3.12.2"
  }
 },
 "nbformat": 4,
 "nbformat_minor": 2
}
