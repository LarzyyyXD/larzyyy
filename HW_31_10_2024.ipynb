{
 "cells": [
  {
   "cell_type": "code",
   "execution_count": 1,
   "metadata": {},
   "outputs": [
    {
     "name": "stdout",
     "output_type": "stream",
     "text": [
      "“Don't compare yourself with anyone in this world…\n",
      "if you do so, you are insulting yourself.”\n",
      "Bill Gates\n"
     ]
    }
   ],
   "source": [
    "# Задание 1\n",
    "# Напишите функцию, которая отображает на экран\n",
    "# форматированный текст, указанный ниже:\n",
    "# “Don't compare yourself with anyone in this world…\n",
    "# if you do so, you are insulting yourself.”\n",
    "# Bill Gates\n",
    "\n",
    "def showText():\n",
    "    print(\"\"\"“Don't compare yourself with anyone in this world…\n",
    "if you do so, you are insulting yourself.”\n",
    "Bill Gates\"\"\")\n",
    "    \n",
    "showText()\n",
    "\n"
   ]
  },
  {
   "cell_type": "code",
   "execution_count": 4,
   "metadata": {},
   "outputs": [],
   "source": [
    "# Задание 2\n",
    "# Напишите функцию, которая принимает два числа\n",
    "# в качестве параметра и отображает все четные числа\n",
    "# между ними.\n",
    "\n",
    "def task2(x, y):\n",
    "    return [i for i in range(x, y+1) if i%2 == 0]"
   ]
  },
  {
   "cell_type": "code",
   "execution_count": 16,
   "metadata": {},
   "outputs": [
    {
     "name": "stdout",
     "output_type": "stream",
     "text": [
      "*****\n",
      "*****\n",
      "*****\n",
      "*****\n",
      "*****\n"
     ]
    }
   ],
   "source": [
    "# Задание 3(True)\n",
    "# Напишите функцию, которая отображает пустой или\n",
    "# заполненный квадрат из некоторого символа. Функция\n",
    "# принимает в качестве параметров: длину стороны квадрата, символ и переменную логического типа:\n",
    "# ■ если она равна True, квадрат заполненный;\n",
    "# ■ если False, квадрат пустой.\n",
    "\n",
    "def square(sideLength, symbol, filled): \n",
    "    if filled: \n",
    "        for i in range(sideLength): \n",
    "            print(symbol * sideLength) \n",
    "    else: \n",
    "        print(symbol * sideLength) \n",
    "        for i in range(sideLength - 2): \n",
    "            print(symbol + ' ' * (sideLength - 2) + symbol) \n",
    "        print(symbol * sideLength)\n",
    "square(5, '*', True)"
   ]
  },
  {
   "cell_type": "code",
   "execution_count": 14,
   "metadata": {},
   "outputs": [
    {
     "name": "stdout",
     "output_type": "stream",
     "text": [
      "*****\n",
      "*   *\n",
      "*   *\n",
      "*   *\n",
      "*****\n"
     ]
    }
   ],
   "source": [
    "# Задание 3(False)\n",
    "# Напишите функцию, которая отображает пустой или\n",
    "# заполненный квадрат из некоторого символа. Функция\n",
    "# принимает в качестве параметров: длину стороны квадрата, символ и переменную логического типа:\n",
    "# ■ если она равна True, квадрат заполненный;\n",
    "# ■ если False, квадрат пустой.\n",
    "\n",
    "def square(sideLength, symbol, filled): \n",
    "    if filled: \n",
    "        for i in range(sideLength): \n",
    "            print(symbol * sideLength) \n",
    "    else: \n",
    "        print(symbol * sideLength) \n",
    "        for i in range(sideLength - 2): \n",
    "            print(symbol + ' ' * (sideLength - 2) + symbol) \n",
    "        print(symbol * sideLength)\n",
    "square(5, '*', False)"
   ]
  },
  {
   "cell_type": "code",
   "execution_count": 18,
   "metadata": {},
   "outputs": [
    {
     "data": {
      "text/plain": [
       "1"
      ]
     },
     "execution_count": 18,
     "metadata": {},
     "output_type": "execute_result"
    }
   ],
   "source": [
    "# Задание 4\n",
    "# Напишитефункцию, которая возвращает минимальное\n",
    "# из пяти чисел. Числа передаются в качестве параметров\n",
    "\n",
    "def numbers(a, b, c, d, e):\n",
    "    return min(a, b, c, d, e)\n",
    "\n",
    "numbers(1,2,3,4,5)"
   ]
  },
  {
   "cell_type": "code",
   "execution_count": 36,
   "metadata": {},
   "outputs": [],
   "source": [
    "# Задание 5\n",
    "# Напишите функцию, которая возвращает произведение чисел в указанном диапазоне. Границы диапазона\n",
    "# передаются в качестве параметров. Если границы диапазона перепутаны(например,5- верхняя граница,25-нижняя граница), их нужно поменять местами.\n",
    "\n",
    "def task5(x1,x2):\n",
    "\n",
    "    if x1 < x2:\n",
    "        result == 1\n",
    "        \n",
    "        mass = [i for i in range(x1, x2+1)]\n",
    "        for i in mass:\n",
    "            result = result * i\n",
    "        return result\n",
    "    elif x1 > x2:\n",
    "        result == 1\n",
    "        \n",
    "        mass = [i for i in range(x2, x1+1)]\n",
    "        for i in mass:\n",
    "            result = result * i\n",
    "        return result\n",
    "    elif x2 == x1:\n",
    "        \n",
    "        return('числа одинаковые для создания диапазона:)')\n"
   ]
  },
  {
   "cell_type": "code",
   "execution_count": 33,
   "metadata": {},
   "outputs": [
    {
     "name": "stdout",
     "output_type": "stream",
     "text": [
      "4\n"
     ]
    }
   ],
   "source": [
    "# Задание 6\n",
    "# Напишите функцию, которая считает количество\n",
    "# цифр в числе. Число передаётся в качестве параметра. Из\n",
    "# функции нужно вернуть полученное количество цифр.\n",
    "# Например, если передали 3456, количество цифр будет 4.\n",
    "\n",
    "def count_nums(numbers):\n",
    "    return len(str(abs(numbers)))\n",
    "\n",
    "num = 1234\n",
    "result = count_nums(num)\n",
    "print(result)  "
   ]
  },
  {
   "cell_type": "code",
   "execution_count": 35,
   "metadata": {},
   "outputs": [
    {
     "data": {
      "text/plain": [
       "True"
      ]
     },
     "execution_count": 35,
     "metadata": {},
     "output_type": "execute_result"
    }
   ],
   "source": [
    "# Задание 7\n",
    "# Напишите функцию, которая проверяет является ли\n",
    "# число палиндромом. Число передаётся в качестве параметра. Если число палиндром нужно вернуть из функции\n",
    "# true, иначе false.\n",
    "# «Палиндром» — это число, у которого первая часть\n",
    "# цифр равна второй перевернутой части цифр. Например,\n",
    "# 123321—палиндром(первая часть 123, вторая 321, которая\n",
    "# после переворота становится 123), 546645 — палиндром,\n",
    "# а 421987 — не палиндром. \n",
    "\n",
    "def is_palindrome(number):\n",
    "    num_str = str((number))  \n",
    "\n",
    "    length = len(num_str)\n",
    "\n",
    "    return num_str == num_str[::-1]\n",
    "\n",
    "is_palindrome(123321)"
   ]
  }
 ],
 "metadata": {
  "kernelspec": {
   "display_name": "Python 3",
   "language": "python",
   "name": "python3"
  },
  "language_info": {
   "codemirror_mode": {
    "name": "ipython",
    "version": 3
   },
   "file_extension": ".py",
   "mimetype": "text/x-python",
   "name": "python",
   "nbconvert_exporter": "python",
   "pygments_lexer": "ipython3",
   "version": "3.12.6"
  }
 },
 "nbformat": 4,
 "nbformat_minor": 2
}
