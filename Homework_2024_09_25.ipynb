{
 "cells": [
  {
   "cell_type": "markdown",
   "metadata": {},
   "source": [
    "### Сортировка файлов по размеру\n",
    "\n",
    "Напишите программу, которая сортирует файлы в данной директории по размеру (от меньшего к большему). Для этого неплохо было бы несколько файлов или создать вручную, если в директории с этой тетрадкой кроме нее ничего нет, либо перенести несколько случайных файлов в нее, после чего можно будет проверить работу кода. По итогу вы должны вывести список файлов директории с заданным ранее условием"
   ]
  },
  {
   "cell_type": "code",
   "execution_count": 20,
   "metadata": {},
   "outputs": [
    {
     "name": "stdout",
     "output_type": "stream",
     "text": [
      "['594_DARK_SOULS_REMA.torrent', 'Array.txt', 'arrays methods.txt', 'Astroneer (2019)', 'astroneer-2019.torrent', 'Dark Souls Remastered by Igruha', 'DARK SOULS REMASTERED by xatab', 'desktop.ini', 'DiscordSetup.exe', 'God.of.War.RePack.by.Chovka', 'goodbyedpi-0.2.3rc3-2.zip', 'Homework_2024_09_25.ipynb', 'HW_2024_09_16.pdf', 'launchergbdpi.8.3.rar', 'LegacyLauncher_Installer_legacy.exe', 'Living_With_SIster_Monochrome_Fantasy_v1.03_cn_1.02.torrent', 'Mafia-II-Definitive-Edition-by-Igruha.torrent', 'Need-for-Speed-Carbon-by-Igruha.torrent', 'OCCT-11.0.23.exe', 'OCCT.config.json', 'OCCT13.1.4.exe', 'python-3.12.6-amd64.exe', 'Python_DZ_Modul__01_Vvedenie_c_1_1573140367 (1).pdf', 'Python_DZ_Modul__01_Vvedenie_c_1_1573140367 (2).pdf', 'Python_DZ_Modul__01_Vvedenie_c_1_1573140367.pdf', 'Python_DZ_Modul__02_Operatory_vetvlenij_c_1_1573140548.pdf', 'Python_DZ_Modul__03_Cikly_c_4_1573634240.pdf', 'Red Dead Redemption 2 by Igruha', 'RobloxPlayerInstaller.exe', 'Telegram Desktop', 'The_Imperial_Gatekeeper.torrent', 'VSCodeUserSetup-x64-1.92.2.exe', 'дз.txt']\n",
      "['594_DARK_SOULS_REMA.torrent', 'Array.txt', 'Astroneer (2019)', 'DARK SOULS REMASTERED by xatab', 'Dark Souls Remastered by Igruha', 'DiscordSetup.exe', 'God.of.War.RePack.by.Chovka', 'HW_2024_09_16.pdf', 'Homework_2024_09_25.ipynb', 'LegacyLauncher_Installer_legacy.exe', 'Living_With_SIster_Monochrome_Fantasy_v1.03_cn_1.02.torrent', 'Mafia-II-Definitive-Edition-by-Igruha.torrent', 'Need-for-Speed-Carbon-by-Igruha.torrent', 'OCCT-11.0.23.exe', 'OCCT.config.json', 'OCCT13.1.4.exe', 'Python_DZ_Modul__01_Vvedenie_c_1_1573140367 (1).pdf', 'Python_DZ_Modul__01_Vvedenie_c_1_1573140367 (2).pdf', 'Python_DZ_Modul__01_Vvedenie_c_1_1573140367.pdf', 'Python_DZ_Modul__02_Operatory_vetvlenij_c_1_1573140548.pdf', 'Python_DZ_Modul__03_Cikly_c_4_1573634240.pdf', 'Red Dead Redemption 2 by Igruha', 'RobloxPlayerInstaller.exe', 'Telegram Desktop', 'The_Imperial_Gatekeeper.torrent', 'VSCodeUserSetup-x64-1.92.2.exe', 'arrays methods.txt', 'astroneer-2019.torrent', 'desktop.ini', 'goodbyedpi-0.2.3rc3-2.zip', 'launchergbdpi.8.3.rar', 'python-3.12.6-amd64.exe', 'дз.txt']\n"
     ]
    }
   ],
   "source": [
    "# ваш код тут\n",
    "import os\n",
    "\n",
    "path = r\"C:\\Users\\TopPc\\Downloads\"\n",
    "print((os.listdir(path))) # файлы сортированы по названию\n",
    "print(sorted(os.listdir(path))) # файлы сортированы по размеру от меньшего к большему\n"
   ]
  },
  {
   "cell_type": "markdown",
   "metadata": {},
   "source": [
    "### Создание директорий\n",
    "\n",
    "Напишите программу, которая создает серию вложенных директорий с использованием цикла. Например, создать директорию \"А\", в которой будет лежать директория \"B\", в которой будет лежать директория \"C\" (названия директорий латиницей). В конце вы должны вывести, что содержится в каждой из этих директорий"
   ]
  },
  {
   "cell_type": "code",
   "execution_count": 2,
   "metadata": {},
   "outputs": [
    {
     "name": "stdout",
     "output_type": "stream",
     "text": [
      "c:\\Users\\TopPC\n",
      "каталог: .\\A\n",
      "каталог: .\\A\\B\n",
      "каталог: .\\A\\B\\C\n"
     ]
    }
   ],
   "source": [
    "# ваш код тут\n",
    "import os\n",
    "\n",
    "os.mkdir('directory')\n",
    "print(os.getcwd())\n",
    "os.chdir('directory')\n",
    "os.makedirs('A/B/C')\n",
    "\n",
    "for dirpach, dirnames, filenames, in os.walk('.'):\n",
    "   for dirname in dirnames:\n",
    "      print(\"каталог:\", os.path.join(dirpach,dirname))\n",
    "   for filenames in filenames:\n",
    "      print('Файл:', os.path.join(dirpach))\n",
    "\n"
   ]
  },
  {
   "cell_type": "markdown",
   "metadata": {},
   "source": [
    "### Поиск файлов по расширению\n",
    "\n",
    "Напишите программу, которая выводит имена всех файлов с расширением, например, \".txt\" в определенной директории и всех поддиректориях"
   ]
  },
  {
   "cell_type": "code",
   "execution_count": 19,
   "metadata": {},
   "outputs": [
    {
     "name": "stdout",
     "output_type": "stream",
     "text": [
      "c:\\Users\\TopPC\\Downloads\\Astroneer (2019)\\ASTRONEER\\Astro\\Content\\Movies\\AnomolyMovie.mp4\n",
      "c:\\Users\\TopPC\\Downloads\\Astroneer (2019)\\ASTRONEER\\Astro\\Content\\Movies\\astroneer_loadingscreen.mp4\n",
      "c:\\Users\\TopPC\\Downloads\\Astroneer (2019)\\ASTRONEER\\Astro\\Content\\Movies\\ComputerScreenMovie.mp4\n",
      "c:\\Users\\TopPC\\Downloads\\Astroneer (2019)\\ASTRONEER\\Astro\\Content\\Movies\\GateUnlockMovie.mp4\n",
      "c:\\Users\\TopPC\\Downloads\\Astroneer (2019)\\ASTRONEER\\Astro\\Content\\Movies\\Legal1080p.mp4\n",
      "c:\\Users\\TopPC\\Downloads\\Astroneer (2019)\\ASTRONEER\\Astro\\Content\\Movies\\Legal1088.mp4\n",
      "c:\\Users\\TopPC\\Downloads\\Astroneer (2019)\\ASTRONEER\\Astro\\Content\\Movies\\Legal4K.mp4\n",
      "c:\\Users\\TopPC\\Downloads\\Astroneer (2019)\\ASTRONEER\\Astro\\Content\\Movies\\LoadingLoop1080P.mp4\n",
      "c:\\Users\\TopPC\\Downloads\\Astroneer (2019)\\ASTRONEER\\Astro\\Content\\Movies\\LoadingLoop1088.mp4\n",
      "c:\\Users\\TopPC\\Downloads\\Astroneer (2019)\\ASTRONEER\\Astro\\Content\\Movies\\LoadingLoop4k.mp4\n",
      "c:\\Users\\TopPC\\Downloads\\Astroneer (2019)\\ASTRONEER\\Astro\\Content\\Movies\\SESLogo1080p.mp4\n",
      "c:\\Users\\TopPC\\Downloads\\Astroneer (2019)\\ASTRONEER\\Astro\\Content\\Movies\\SESLogo1088.mp4\n",
      "c:\\Users\\TopPC\\Downloads\\Astroneer (2019)\\ASTRONEER\\Astro\\Content\\Movies\\SESLogo4K.mp4\n",
      "c:\\Users\\TopPC\\Downloads\\Astroneer (2019)\\ASTRONEER\\Astro\\Content\\Movies\\ses_logo.mp4\n",
      "c:\\Users\\TopPC\\Downloads\\Astroneer (2019)\\ASTRONEER\\Astro\\Content\\Movies\\UpdateSnail_Video.mp4\n",
      "c:\\Users\\TopPC\\Downloads\\Astroneer (2019)\\ASTRONEER\\Astro\\Content\\Movies\\WanderShot01.mp4\n",
      "c:\\Users\\TopPC\\Downloads\\Astroneer (2019)\\ASTRONEER\\Astro\\Content\\Movies\\WanderShot02.mp4\n",
      "c:\\Users\\TopPC\\Downloads\\Astroneer (2019)\\ASTRONEER\\Astro\\Content\\Movies\\WanderShot03.mp4\n",
      "c:\\Users\\TopPC\\Downloads\\Telegram Desktop\\Основы_Регулярных_Выражений_В_Python___Модуль_re.mp4\n"
     ]
    }
   ],
   "source": [
    "# ваш код тут\n",
    "import os\n",
    "\n",
    "\n",
    "def find_files_with_extension(directory, extension):\n",
    "    for root, dirs, files in os.walk(directory):\n",
    "        for file in files:\n",
    "            if file.endswith(extension):\n",
    "                full_path = os.path.join(root, file)\n",
    "                print(full_path)\n",
    "\n",
    "dir_path =  r\"c:\\Users\\TopPC\\Downloads\"\n",
    "file_extension = '.mp4' \n",
    "\n",
    "find_files_with_extension(dir_path, file_extension)"
   ]
  },
  {
   "cell_type": "markdown",
   "metadata": {},
   "source": [
    "### Получение информации о файле\n",
    "\n",
    "Напишите программу, которая выводит информацию о файле: имя, размер, дату модификации, тип файла (файл/директория)"
   ]
  },
  {
   "cell_type": "code",
   "execution_count": 1,
   "metadata": {},
   "outputs": [
    {
     "name": "stdout",
     "output_type": "stream",
     "text": [
      "os.stat_result(st_mode=33206, st_ino=1125899907381093, st_dev=12253300103786744951, st_nlink=1, st_uid=0, st_gid=0, st_size=19, st_atime=1728130252, st_mtime=1728130252, st_ctime=1728130252) \n",
      " ['text.txt'] \n",
      " c:\\Users\\TopPC\\Downloads\\folder \n",
      "\n"
     ]
    }
   ],
   "source": [
    "# ваш код тут\n",
    "import os \n",
    "os.mkdir('folder')\n",
    "os.chdir('folder')\n",
    "file = open('text.txt', 'w').write('Это текстовый файл!')\n",
    "print(os.stat('text.txt'),'\\n' ,os.listdir(),'\\n',os.getcwd(), '\\n')\n",
    "\n"
   ]
  },
  {
   "cell_type": "markdown",
   "metadata": {},
   "source": [
    "### Проверка e-mail адреса\n",
    "\n",
    "Напишите программу, которая запрашивает у пользователя ввести e-mail адрес и проверяет введенную строку с помощью регулярных выражений, является ли она типовым e-mail адресом. В случае, если да, программа должны вывести \"Всё верно\", если же нет, то \"Вы допустили ошибку в e-mail адресе\""
   ]
  },
  {
   "cell_type": "code",
   "execution_count": 21,
   "metadata": {},
   "outputs": [
    {
     "name": "stdout",
     "output_type": "stream",
     "text": [
      "False\n"
     ]
    }
   ],
   "source": [
    "# ваш код тут\n",
    "import re\n",
    "\n",
    "\n",
    "pattern = re.compile(r\"^\\S+@\\S+\\.$\")\n",
    "\n",
    "\n",
    "is_valid = pattern.match(input('Введите e-mail')) \n",
    "print(is_valid is not None) "
   ]
  }
 ],
 "metadata": {
  "kernelspec": {
   "display_name": "Python 3",
   "language": "python",
   "name": "python3"
  },
  "language_info": {
   "codemirror_mode": {
    "name": "ipython",
    "version": 3
   },
   "file_extension": ".py",
   "mimetype": "text/x-python",
   "name": "python",
   "nbconvert_exporter": "python",
   "pygments_lexer": "ipython3",
   "version": "3.12.6"
  }
 },
 "nbformat": 4,
 "nbformat_minor": 2
}
