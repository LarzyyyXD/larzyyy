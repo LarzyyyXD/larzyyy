{
 "cells": [
  {
   "cell_type": "code",
   "execution_count": 2,
   "metadata": {},
   "outputs": [
    {
     "name": "stderr",
     "output_type": "stream",
     "text": [
      "<>:5: SyntaxWarning: invalid escape sequence '\\ '\n",
      "<>:5: SyntaxWarning: invalid escape sequence '\\ '\n",
      "C:\\Users\\279015491\\AppData\\Local\\Temp\\ipykernel_7640\\184845605.py:5: SyntaxWarning: invalid escape sequence '\\ '\n",
      "  q = input('exit= \\'y\\ or \\'Y\\' ')\n"
     ]
    },
    {
     "name": "stdout",
     "output_type": "stream",
     "text": [
      "5\n",
      "3\n",
      "end\n"
     ]
    }
   ],
   "source": [
    "while True:\n",
    "    num1 = input('1')\n",
    "    num2 = input('2')\n",
    "    print(int(num1) + int(num2))\n",
    "    q = input('exit= \\'y\\ or \\'Y\\' ')\n",
    "    if q != 'y' and q != 'Y':\n",
    "        continue\n",
    "    else:\n",
    "        print('end')\n",
    "        break"
   ]
  },
  {
   "cell_type": "code",
   "execution_count": 3,
   "metadata": {},
   "outputs": [
    {
     "name": "stdout",
     "output_type": "stream",
     "text": [
      "*******\n",
      " *   * \n",
      "*******\n"
     ]
    }
   ],
   "source": [
    "for i in range(3):\n",
    "    if i == 0:\n",
    "        print('*******')\n",
    "    elif i == 1:\n",
    "        print(' *   * ')\n",
    "    else:\n",
    "        print(\"*******\")\n"
   ]
  },
  {
   "cell_type": "code",
   "execution_count": 4,
   "metadata": {},
   "outputs": [
    {
     "name": "stdout",
     "output_type": "stream",
     "text": [
      "*******\n",
      " *   * \n",
      "  * *  \n",
      "   *   \n",
      "  * *  \n",
      " *   * \n",
      "*******\n"
     ]
    }
   ],
   "source": [
    "n = 7\n",
    "for i in range(n):\n",
    "    for j in range(n):\n",
    "        if(i == 0 or i == n-1 or j==i or j == n-i-1):\n",
    "            print('*', end='')\n",
    "        else:\n",
    "            print(' ', end=\"\")\n",
    "    print()"
   ]
  },
  {
   "cell_type": "code",
   "execution_count": null,
   "metadata": {},
   "outputs": [],
   "source": [
    "n = 5 \n",
    "k = 1 \n",
    "counter = 1 \n",
    " \n",
    "for i in range(n): \n",
    "    for j in range(n): \n",
    "        if k % 2 == 0: \n",
    "            print(counter, end = ' ') \n",
    "            counter += 1 \n",
    "        else:  \n",
    "            print('*', end = ' ') \n",
    "        k += 1 \n",
    "    print()"
   ]
  },
  {
   "cell_type": "code",
   "execution_count": 17,
   "metadata": {},
   "outputs": [
    {
     "name": "stdout",
     "output_type": "stream",
     "text": [
      "ЫФСПЫСФЫысфпыпфыспСППЫы\n"
     ]
    }
   ],
   "source": [
    "letters = 'ЫФСПЫСФЫысфпыпфыспСППЫы'\n",
    "for letter in letters:\n",
    "    if letter.upper() == letters:\n",
    "        letters.replace(letter,'')\n",
    "print(letters)\n"
   ]
  },
  {
   "cell_type": "code",
   "execution_count": 18,
   "metadata": {},
   "outputs": [
    {
     "name": "stdout",
     "output_type": "stream",
     "text": [
      "ысфпыпфыспы\n"
     ]
    }
   ],
   "source": [
    "list1 = []\n",
    "for letter in letters:\n",
    "    if letter.islower():\n",
    "        list1.append(letter)\n",
    "\n",
    "letters1 = ''\n",
    "\n",
    "for i in list1:\n",
    "    letters1 += i \n",
    "        \n",
    "\n",
    "print(letters1)"
   ]
  },
  {
   "cell_type": "code",
   "execution_count": 23,
   "metadata": {},
   "outputs": [
    {
     "name": "stdout",
     "output_type": "stream",
     "text": [
      "[1, 12323]\n"
     ]
    }
   ],
   "source": [
    "num = 12323\n",
    "list1 = []\n",
    "\n",
    "for i in range(1, num+1):\n",
    "    if num % i == 0:\n",
    "        list1.append(i)\n",
    "\n",
    "print(list1)\n"
   ]
  },
  {
   "cell_type": "code",
   "execution_count": 29,
   "metadata": {},
   "outputs": [
    {
     "name": "stdout",
     "output_type": "stream",
     "text": [
      "привет\n"
     ]
    }
   ],
   "source": [
    "user_name = ['Andrey', 'Artem','Max']\n",
    "login = input('Введите свое имя:')\n",
    "count = 0\n",
    "\n",
    "for i in user_name:\n",
    "    if login == i:\n",
    "        count += 1\n",
    "\n",
    "if count == 0:\n",
    "    print('пока')\n",
    "else:\n",
    "    print('привет')\n",
    "        "
   ]
  }
 ],
 "metadata": {
  "kernelspec": {
   "display_name": "Python 3",
   "language": "python",
   "name": "python3"
  },
  "language_info": {
   "codemirror_mode": {
    "name": "ipython",
    "version": 3
   },
   "file_extension": ".py",
   "mimetype": "text/x-python",
   "name": "python",
   "nbconvert_exporter": "python",
   "pygments_lexer": "ipython3",
   "version": "3.12.6"
  },
  "orig_nbformat": 4,
  "vscode": {
   "interpreter": {
    "hash": "7d0b288b9e0c259eb4c974ea5df379d68154a5c2434e58298688ce605279acae"
   }
  }
 },
 "nbformat": 4,
 "nbformat_minor": 2
}
