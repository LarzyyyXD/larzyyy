{
 "cells": [
  {
   "cell_type": "code",
   "execution_count": 11,
   "metadata": {},
   "outputs": [
    {
     "name": "stdout",
     "output_type": "stream",
     "text": [
      "Вы выбрали умножение: 12167.0\n"
     ]
    }
   ],
   "source": [
    "# Задание 1\n",
    "a = float(input(\"Введите 1 число\"))\n",
    "b = float(input(\"Введите 2 число\"))\n",
    "c = float(input(\"Введите 3 число\"))\n",
    "\n",
    "d = input(\"Введите + для сложения, * для умножения\")\n",
    "if d == \"+\":\n",
    "    result = a + b + c\n",
    "    print(f\"Вы выбрали сложение: {result}\")\n",
    "elif d == \"*\":\n",
    "    result = a * b * c\n",
    "    print(f\"Вы выбрали умножение: {result}\")\n",
    "else:\n",
    "    print('Вы выбрали что-то другое.')"
   ]
  },
  {
   "cell_type": "code",
   "execution_count": 28,
   "metadata": {},
   "outputs": [
    {
     "name": "stdout",
     "output_type": "stream",
     "text": [
      "Среднее: 59.333333333333336\n"
     ]
    }
   ],
   "source": [
    "# Задание 2 \n",
    "a = float(input(\"Введите 1 число\"))\n",
    "b = float(input(\"Введите 2 число\"))\n",
    "c = float(input(\"Введите 3 число\"))\n",
    "numbers = a,b,c\n",
    "d = input(\"Введите max-максимальное число, min- минимальное, mean-среднее\")\n",
    "if d == \"max\":\n",
    "    result = max(numbers)\n",
    "    print(f\"Максимальное: {result} \")\n",
    "elif d == \"min\":\n",
    "    result = min(numbers)\n",
    "    print(f\"Минимальное: {result}\")\n",
    "elif d == \"mean\":\n",
    "    result = sum(numbers) / len(numbers)\n",
    "    print(f\"Среднее: {result}\")\n",
    "else:\n",
    "    print(\"Вы выбрали что-то другое.\")"
   ]
  },
  {
   "cell_type": "code",
   "execution_count": 27,
   "metadata": {},
   "outputs": [
    {
     "name": "stdout",
     "output_type": "stream",
     "text": [
      "1348149.3280000002\n"
     ]
    }
   ],
   "source": [
    "# Задание 3\n",
    "a = float(input(\"Введите количество метров\"))\n",
    "b = input(\"Введите mile-миля, inch-дюйм, yard-ярд\")\n",
    "if b == \"mile\":\n",
    "    print(a * 0.00062137) \n",
    "elif b == \"inch\":\n",
    "    print(a * 39.37)\n",
    "elif b == \"yard\":\n",
    "    print(a * 1.094)\n",
    "else:\n",
    "    print(\"Вы выбрали что-то другое.\")"
   ]
  }
 ],
 "metadata": {
  "kernelspec": {
   "display_name": "Python 3",
   "language": "python",
   "name": "python3"
  },
  "language_info": {
   "codemirror_mode": {
    "name": "ipython",
    "version": 3
   },
   "file_extension": ".py",
   "mimetype": "text/x-python",
   "name": "python",
   "nbconvert_exporter": "python",
   "pygments_lexer": "ipython3",
   "version": "3.12.6"
  }
 },
 "nbformat": 4,
 "nbformat_minor": 2
}
